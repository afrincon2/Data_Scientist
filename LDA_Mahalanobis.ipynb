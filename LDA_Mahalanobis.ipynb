{
 "cells": [
  {
   "attachments": {},
   "cell_type": "markdown",
   "metadata": {},
   "source": [
    "## LDA (Linear Discriminant Analysis)\n",
    "\n",
    "The linear combination contained in b X, was suggested by Fisher, so such that the ratio of the differences in the means of the combination linear to their variance is minimum. That is, the linear combination is of the form $Y = bX$, where b must be:\n",
    "\n",
    "$b=\\Sigma^{-1}( \\mu_1 - \\mu_2 )$\n",
    "\n",
    "-Assumes normality in the data\n",
    "\n",
    "-In discriminant analysis, the independent variables are assumed to be normally distributed and the response variable is assumes fixed, which takes the values ​​zero or one, depending on the location of the object in one of the two groups.\n",
    "\n",
    "-The discriminant analysis aim is to find a linear combination of independent variables that minimizes the probability of incorrectly classifying objects in their respective groups.\n",
    "\n",
    "-Discriminant analysis seeks a procedure to assign or classify cases to groups."
   ]
  },
  {
   "cell_type": "code",
   "execution_count": 9,
   "metadata": {},
   "outputs": [],
   "source": [
    "import pandas as pd\n",
    "from pydataset import data\n",
    "import matplotlib.pyplot as plt\n",
    "from sklearn.discriminant_analysis import LinearDiscriminantAnalysis as LDA\n",
    "from sklearn.model_selection import train_test_split\n",
    "from sklearn.metrics import classification_report\n",
    "from sklearn import metrics\n"
   ]
  },
  {
   "cell_type": "code",
   "execution_count": 4,
   "metadata": {},
   "outputs": [
    {
     "data": {
      "text/html": [
       "<div>\n",
       "<style scoped>\n",
       "    .dataframe tbody tr th:only-of-type {\n",
       "        vertical-align: middle;\n",
       "    }\n",
       "\n",
       "    .dataframe tbody tr th {\n",
       "        vertical-align: top;\n",
       "    }\n",
       "\n",
       "    .dataframe thead th {\n",
       "        text-align: right;\n",
       "    }\n",
       "</style>\n",
       "<table border=\"1\" class=\"dataframe\">\n",
       "  <thead>\n",
       "    <tr style=\"text-align: right;\">\n",
       "      <th></th>\n",
       "      <th>art</th>\n",
       "      <th>fem</th>\n",
       "      <th>mar</th>\n",
       "      <th>kid5</th>\n",
       "      <th>phd</th>\n",
       "      <th>ment</th>\n",
       "    </tr>\n",
       "  </thead>\n",
       "  <tbody>\n",
       "    <tr>\n",
       "      <th>1</th>\n",
       "      <td>0</td>\n",
       "      <td>Men</td>\n",
       "      <td>Married</td>\n",
       "      <td>0</td>\n",
       "      <td>2.52</td>\n",
       "      <td>7</td>\n",
       "    </tr>\n",
       "    <tr>\n",
       "      <th>2</th>\n",
       "      <td>0</td>\n",
       "      <td>Women</td>\n",
       "      <td>Single</td>\n",
       "      <td>0</td>\n",
       "      <td>2.05</td>\n",
       "      <td>6</td>\n",
       "    </tr>\n",
       "    <tr>\n",
       "      <th>3</th>\n",
       "      <td>0</td>\n",
       "      <td>Women</td>\n",
       "      <td>Single</td>\n",
       "      <td>0</td>\n",
       "      <td>3.75</td>\n",
       "      <td>6</td>\n",
       "    </tr>\n",
       "    <tr>\n",
       "      <th>4</th>\n",
       "      <td>0</td>\n",
       "      <td>Men</td>\n",
       "      <td>Married</td>\n",
       "      <td>1</td>\n",
       "      <td>1.18</td>\n",
       "      <td>3</td>\n",
       "    </tr>\n",
       "    <tr>\n",
       "      <th>5</th>\n",
       "      <td>0</td>\n",
       "      <td>Women</td>\n",
       "      <td>Single</td>\n",
       "      <td>0</td>\n",
       "      <td>3.75</td>\n",
       "      <td>26</td>\n",
       "    </tr>\n",
       "    <tr>\n",
       "      <th>...</th>\n",
       "      <td>...</td>\n",
       "      <td>...</td>\n",
       "      <td>...</td>\n",
       "      <td>...</td>\n",
       "      <td>...</td>\n",
       "      <td>...</td>\n",
       "    </tr>\n",
       "    <tr>\n",
       "      <th>911</th>\n",
       "      <td>11</td>\n",
       "      <td>Men</td>\n",
       "      <td>Married</td>\n",
       "      <td>2</td>\n",
       "      <td>2.86</td>\n",
       "      <td>7</td>\n",
       "    </tr>\n",
       "    <tr>\n",
       "      <th>912</th>\n",
       "      <td>12</td>\n",
       "      <td>Men</td>\n",
       "      <td>Married</td>\n",
       "      <td>1</td>\n",
       "      <td>4.29</td>\n",
       "      <td>35</td>\n",
       "    </tr>\n",
       "    <tr>\n",
       "      <th>913</th>\n",
       "      <td>12</td>\n",
       "      <td>Men</td>\n",
       "      <td>Married</td>\n",
       "      <td>1</td>\n",
       "      <td>1.86</td>\n",
       "      <td>5</td>\n",
       "    </tr>\n",
       "    <tr>\n",
       "      <th>914</th>\n",
       "      <td>16</td>\n",
       "      <td>Men</td>\n",
       "      <td>Married</td>\n",
       "      <td>0</td>\n",
       "      <td>1.74</td>\n",
       "      <td>21</td>\n",
       "    </tr>\n",
       "    <tr>\n",
       "      <th>915</th>\n",
       "      <td>19</td>\n",
       "      <td>Men</td>\n",
       "      <td>Married</td>\n",
       "      <td>0</td>\n",
       "      <td>1.86</td>\n",
       "      <td>42</td>\n",
       "    </tr>\n",
       "  </tbody>\n",
       "</table>\n",
       "<p>915 rows × 6 columns</p>\n",
       "</div>"
      ],
      "text/plain": [
       "     art    fem      mar  kid5   phd  ment\n",
       "1      0    Men  Married     0  2.52     7\n",
       "2      0  Women   Single     0  2.05     6\n",
       "3      0  Women   Single     0  3.75     6\n",
       "4      0    Men  Married     1  1.18     3\n",
       "5      0  Women   Single     0  3.75    26\n",
       "..   ...    ...      ...   ...   ...   ...\n",
       "911   11    Men  Married     2  2.86     7\n",
       "912   12    Men  Married     1  4.29    35\n",
       "913   12    Men  Married     1  1.86     5\n",
       "914   16    Men  Married     0  1.74    21\n",
       "915   19    Men  Married     0  1.86    42\n",
       "\n",
       "[915 rows x 6 columns]"
      ]
     },
     "execution_count": 4,
     "metadata": {},
     "output_type": "execute_result"
    }
   ],
   "source": [
    "df=data(\"bioChemists\")\n",
    "df"
   ]
  },
  {
   "cell_type": "code",
   "execution_count": 5,
   "metadata": {},
   "outputs": [
    {
     "data": {
      "text/html": [
       "<div>\n",
       "<style scoped>\n",
       "    .dataframe tbody tr th:only-of-type {\n",
       "        vertical-align: middle;\n",
       "    }\n",
       "\n",
       "    .dataframe tbody tr th {\n",
       "        vertical-align: top;\n",
       "    }\n",
       "\n",
       "    .dataframe thead th {\n",
       "        text-align: right;\n",
       "    }\n",
       "</style>\n",
       "<table border=\"1\" class=\"dataframe\">\n",
       "  <thead>\n",
       "    <tr style=\"text-align: right;\">\n",
       "      <th></th>\n",
       "      <th>art</th>\n",
       "      <th>fem</th>\n",
       "      <th>mar</th>\n",
       "      <th>kid5</th>\n",
       "      <th>phd</th>\n",
       "      <th>ment</th>\n",
       "      <th>Men</th>\n",
       "      <th>Women</th>\n",
       "      <th>Married</th>\n",
       "      <th>Single</th>\n",
       "    </tr>\n",
       "  </thead>\n",
       "  <tbody>\n",
       "    <tr>\n",
       "      <th>1</th>\n",
       "      <td>0</td>\n",
       "      <td>Men</td>\n",
       "      <td>Married</td>\n",
       "      <td>0</td>\n",
       "      <td>2.52</td>\n",
       "      <td>7</td>\n",
       "      <td>1</td>\n",
       "      <td>0</td>\n",
       "      <td>1</td>\n",
       "      <td>0</td>\n",
       "    </tr>\n",
       "    <tr>\n",
       "      <th>2</th>\n",
       "      <td>0</td>\n",
       "      <td>Women</td>\n",
       "      <td>Single</td>\n",
       "      <td>0</td>\n",
       "      <td>2.05</td>\n",
       "      <td>6</td>\n",
       "      <td>0</td>\n",
       "      <td>1</td>\n",
       "      <td>0</td>\n",
       "      <td>1</td>\n",
       "    </tr>\n",
       "    <tr>\n",
       "      <th>3</th>\n",
       "      <td>0</td>\n",
       "      <td>Women</td>\n",
       "      <td>Single</td>\n",
       "      <td>0</td>\n",
       "      <td>3.75</td>\n",
       "      <td>6</td>\n",
       "      <td>0</td>\n",
       "      <td>1</td>\n",
       "      <td>0</td>\n",
       "      <td>1</td>\n",
       "    </tr>\n",
       "    <tr>\n",
       "      <th>4</th>\n",
       "      <td>0</td>\n",
       "      <td>Men</td>\n",
       "      <td>Married</td>\n",
       "      <td>1</td>\n",
       "      <td>1.18</td>\n",
       "      <td>3</td>\n",
       "      <td>1</td>\n",
       "      <td>0</td>\n",
       "      <td>1</td>\n",
       "      <td>0</td>\n",
       "    </tr>\n",
       "    <tr>\n",
       "      <th>5</th>\n",
       "      <td>0</td>\n",
       "      <td>Women</td>\n",
       "      <td>Single</td>\n",
       "      <td>0</td>\n",
       "      <td>3.75</td>\n",
       "      <td>26</td>\n",
       "      <td>0</td>\n",
       "      <td>1</td>\n",
       "      <td>0</td>\n",
       "      <td>1</td>\n",
       "    </tr>\n",
       "  </tbody>\n",
       "</table>\n",
       "</div>"
      ],
      "text/plain": [
       "   art    fem      mar  kid5   phd  ment  Men  Women  Married  Single\n",
       "1    0    Men  Married     0  2.52     7    1      0        1       0\n",
       "2    0  Women   Single     0  2.05     6    0      1        0       1\n",
       "3    0  Women   Single     0  3.75     6    0      1        0       1\n",
       "4    0    Men  Married     1  1.18     3    1      0        1       0\n",
       "5    0  Women   Single     0  3.75    26    0      1        0       1"
      ]
     },
     "execution_count": 5,
     "metadata": {},
     "output_type": "execute_result"
    }
   ],
   "source": [
    "dummy=pd.get_dummies(df[\"fem\"])\n",
    "df=pd.concat([df,dummy],axis=1)\n",
    "dummy=pd.get_dummies(df[\"mar\"])\n",
    "df=pd.concat([df,dummy],axis=1)\n",
    "df.head()"
   ]
  },
  {
   "cell_type": "code",
   "execution_count": 6,
   "metadata": {},
   "outputs": [],
   "source": [
    "X=df[[\"Men\",\"kid5\",\"phd\",\"ment\",\"art\"]]\n",
    "y=df[[\"Married\"]]"
   ]
  },
  {
   "cell_type": "code",
   "execution_count": 10,
   "metadata": {},
   "outputs": [],
   "source": [
    "X_train,X_test,y_train,y_test=train_test_split(X,y,test_size=.3,random_state=0)"
   ]
  },
  {
   "cell_type": "code",
   "execution_count": 11,
   "metadata": {},
   "outputs": [
    {
     "name": "stderr",
     "output_type": "stream",
     "text": [
      "c:\\Users\\afrincon\\Anaconda3\\lib\\site-packages\\sklearn\\utils\\validation.py:993: DataConversionWarning: A column-vector y was passed when a 1d array was expected. Please change the shape of y to (n_samples, ), for example using ravel().\n",
      "  y = column_or_1d(y, warn=True)\n"
     ]
    },
    {
     "data": {
      "text/plain": [
       "0.728125"
      ]
     },
     "execution_count": 11,
     "metadata": {},
     "output_type": "execute_result"
    }
   ],
   "source": [
    "clf=LDA()\n",
    "clf.fit(X_train,y_train)\n",
    "clf.score(X_train,y_train)"
   ]
  },
  {
   "cell_type": "code",
   "execution_count": 12,
   "metadata": {},
   "outputs": [],
   "source": [
    "y_pred=clf.predict(X_test)"
   ]
  },
  {
   "cell_type": "code",
   "execution_count": 13,
   "metadata": {},
   "outputs": [
    {
     "data": {
      "text/plain": [
       "array([0, 1, 0, 1, 1, 1, 0, 1, 0, 0, 0, 1, 1, 0, 1, 0, 1, 1, 0, 1, 0, 1,\n",
       "       0, 0, 0, 1, 1, 0, 1, 0, 1, 0, 0, 1, 1, 1, 1, 1, 1, 0, 1, 0, 0, 0,\n",
       "       1, 0, 1, 1, 1, 1, 0, 0, 1, 1, 0, 0, 0, 1, 1, 1, 0, 1, 1, 0, 0, 1,\n",
       "       1, 0, 0, 1, 1, 0, 1, 1, 0, 0, 0, 1, 1, 1, 1, 1, 1, 0, 1, 1, 1, 1,\n",
       "       1, 1, 1, 1, 1, 0, 1, 1, 1, 1, 1, 0, 1, 1, 1, 1, 1, 0, 1, 0, 1, 1,\n",
       "       1, 1, 0, 1, 1, 0, 1, 1, 0, 1, 0, 1, 0, 1, 1, 0, 1, 0, 1, 1, 1, 1,\n",
       "       0, 1, 1, 0, 1, 0, 1, 0, 1, 1, 0, 1, 1, 1, 1, 1, 0, 1, 1, 1, 1, 1,\n",
       "       1, 1, 1, 1, 1, 0, 0, 1, 1, 1, 1, 0, 1, 1, 1, 1, 1, 1, 0, 0, 1, 1,\n",
       "       1, 1, 1, 1, 1, 0, 1, 0, 1, 0, 1, 1, 1, 0, 1, 1, 1, 1, 0, 0, 0, 0,\n",
       "       0, 1, 1, 1, 1, 1, 1, 1, 1, 1, 0, 1, 1, 1, 0, 1, 1, 0, 0, 0, 1, 0,\n",
       "       1, 0, 1, 1, 1, 0, 1, 0, 1, 1, 1, 0, 1, 0, 0, 0, 1, 0, 0, 1, 1, 1,\n",
       "       1, 0, 1, 1, 1, 1, 0, 1, 1, 0, 1, 1, 1, 1, 1, 0, 1, 0, 1, 1, 1, 0,\n",
       "       1, 0, 1, 1, 1, 1, 0, 1, 1, 1, 1], dtype=uint8)"
      ]
     },
     "execution_count": 13,
     "metadata": {},
     "output_type": "execute_result"
    }
   ],
   "source": [
    "y_pred"
   ]
  },
  {
   "cell_type": "code",
   "execution_count": 14,
   "metadata": {},
   "outputs": [
    {
     "name": "stdout",
     "output_type": "stream",
     "text": [
      "              precision    recall  f1-score   support\n",
      "\n",
      "           0       0.55      0.56      0.56        89\n",
      "           1       0.79      0.78      0.78       186\n",
      "\n",
      "    accuracy                           0.71       275\n",
      "   macro avg       0.67      0.67      0.67       275\n",
      "weighted avg       0.71      0.71      0.71       275\n",
      "\n"
     ]
    }
   ],
   "source": [
    "print(classification_report(y_test,y_pred))"
   ]
  },
  {
   "cell_type": "code",
   "execution_count": 16,
   "metadata": {},
   "outputs": [
    {
     "data": {
      "text/plain": [
       "<matplotlib.legend.Legend at 0x21f9cd46be0>"
      ]
     },
     "execution_count": 16,
     "metadata": {},
     "output_type": "execute_result"
    },
    {
     "data": {
      "image/png": "[encoded data removed]",
      "text/plain": [
       "<Figure size 640x480 with 1 Axes>"
      ]
     },
     "metadata": {},
     "output_type": "display_data"
    }
   ],
   "source": [
    "fpr, tpr, thresholds=metrics.roc_curve(y_test,y_pred)\n",
    "roc_auc=metrics.auc(fpr,tpr)\n",
    "roc_auc\n",
    "plt.clf()\n",
    "plt.plot(fpr,tpr,label=\"ROC curve (are=%0.2f)\" % roc_auc)\n",
    "plt.plot([0,1],[0,1],\"k--\")\n",
    "plt.legend(loc=\"lower right\")"
   ]
  },
  {
   "attachments": {},
   "cell_type": "markdown",
   "metadata": {},
   "source": [
    "# Mahalanobis Distance\n",
    "\n",
    "The variables used in a study are usually on measurement scales different and are also correlated. So, for example, height and weight of people, are quantities with different units (meters and kilograms), so that the number that represents the distance between two individuals will not only change according to the units of measurement used but also with the degree of association between these variables; in this way, if two variables are closely related and in two objects or individuals take values quite different, these are to be considered further apart than if the same values ​​would have been observed in independent variables.\n",
    "\n",
    "The Mahalanobis distance between two objects $X_h=(X_{h1},....,X_{hp})$ and $X_i=(X_{i1},....,X_{ip})$ can be defined in the following way:\n",
    "\n",
    "$D^2_{hi}=(X_h-Xi)'S^{-1}(X_h-Xi)$\n",
    "\n",
    "with $h,i=1,....n$\n",
    "\n",
    "The Mahalanobis distance is frequently used to measure the distance between a multivariate observation (individual) and the center of the population. Where does the observation come from. If $\\textbf{x}_i=(x_{i1},....,x_{ip})'$ represents a particular individual selected aleatory of a population with center $\\bf{\\mu}= ( \\mu_1 ,....,\\mu_p)'$ and the matrix of covariances $\\Sigma$, then:\n",
    "\n",
    "$D_i^2=(\\textbf{x}_i-\\mu)'\\Sigma^{-1}(\\textbf{x}_i-\\mu)$\n",
    "\n",
    "A useful way to detect outliers is through the distance between each observation and the center of the data, this is calculated with the distance of mahalanobis\n",
    "\n",
    "$D_i^2=(\\textbf{x}_i- \\bar{x}_i)'\\Sigma^{-1}(\\textbf{x}_i-\\bar{x}_i)$ \n",
    "\n",
    "\n",
    "Large values ​​of $D_i^2$ warn of the possibility of the observation being an outlier.\n",
    "\n",
    "Another useful procedure in the identification of an outlier, which serves also to judge multinormality of the data, it is based on the statistic of Wilks\n",
    "\n",
    "\n",
    "$\\omega=1-\\frac{nD_{(n)}^2}{(n-1)^2}$\n",
    "\n",
    "where $D_{(n)}^2=(\\textbf{x}_i- \\bar{x}_i)'S^{-1}(\\textbf{x}_i-\\bar{x}_i)$ "
   ]
  },
  {
   "cell_type": "markdown",
   "metadata": {},
   "source": []
  }
 ],
 "metadata": {
  "kernelspec": {
   "display_name": "base",
   "language": "python",
   "name": "python3"
  },
  "language_info": {
   "codemirror_mode": {
    "name": "ipython",
    "version": 3
   },
   "file_extension": ".py",
   "mimetype": "text/x-python",
   "name": "python",
   "nbconvert_exporter": "python",
   "pygments_lexer": "ipython3",
   "version": "3.9.13"
  },
  "orig_nbformat": 4,
  "vscode": {
   "interpreter": {
    "hash": "eabfd7d19aaf8c028d2e706059a933caf1b2347856756c8557b9aeb79deceee2"
   }
  }
 },
 "nbformat": 4,
 "nbformat_minor": 2
}

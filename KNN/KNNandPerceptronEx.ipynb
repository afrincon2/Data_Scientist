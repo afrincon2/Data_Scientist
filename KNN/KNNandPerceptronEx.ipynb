{
 "cells": [
  {
   "cell_type": "code",
   "execution_count": 1,
   "id": "eafc6f09",
   "metadata": {},
   "outputs": [],
   "source": [
    "from sklearn.preprocessing import StandardScaler\n",
    "from sklearn.model_selection import train_test_split\n",
    "from sklearn.preprocessing import MinMaxScaler\n",
    "from sklearn.datasets import load_digits\n",
    "from sklearn.decomposition import PCA\n",
    "from sklearn.manifold import MDS\n",
    "import matplotlib.pyplot as plt\n",
    "from scipy import stats as st\n",
    "import seaborn as sn\n",
    "import pandas as pd\n",
    "import numpy as np"
   ]
  },
  {
   "cell_type": "code",
   "execution_count": 2,
   "id": "3ebc39fc",
   "metadata": {},
   "outputs": [],
   "source": [
    "digits = load_digits()"
   ]
  },
  {
   "cell_type": "code",
   "execution_count": 3,
   "id": "29709b5e",
   "metadata": {},
   "outputs": [],
   "source": [
    "with open('mnist-y.data') as file:\n",
    "    chars = [line[0] for line in file]"
   ]
  },
  {
   "cell_type": "code",
   "execution_count": 4,
   "id": "c0eef959",
   "metadata": {},
   "outputs": [],
   "source": [
    "vectors = []\n",
    "with open('mnist-x.data') as file:\n",
    "    for line in file:\n",
    "        vectors.append([1.0 if float(v) == 1 else -1.0 for v in line.strip().split(',')])"
   ]
  },
  {
   "cell_type": "code",
   "execution_count": 5,
   "id": "ceacbd18",
   "metadata": {},
   "outputs": [
    {
     "data": {
      "text/plain": [
       "<Figure size 640x480 with 0 Axes>"
      ]
     },
     "metadata": {},
     "output_type": "display_data"
    },
    {
     "data": {
      "image/png": "[encoded data removed]",
      "text/plain": [
       "<Figure size 480x480 with 1 Axes>"
      ]
     },
     "metadata": {},
     "output_type": "display_data"
    }
   ],
   "source": [
    "import matplotlib.pyplot as plt\n",
    "plt.gray()\n",
    "plt.matshow(digits.images[1003])\n",
    "plt.show()"
   ]
  },
  {
   "cell_type": "code",
   "execution_count": 6,
   "id": "c3504538",
   "metadata": {},
   "outputs": [],
   "source": [
    "vectors = np.array(vectors)"
   ]
  },
  {
   "cell_type": "code",
   "execution_count": 7,
   "id": "397ed5e0",
   "metadata": {},
   "outputs": [
    {
     "data": {
      "text/plain": [
       "(6000, 784)"
      ]
     },
     "execution_count": 7,
     "metadata": {},
     "output_type": "execute_result"
    }
   ],
   "source": [
    "vectors.shape"
   ]
  },
  {
   "cell_type": "code",
   "execution_count": 8,
   "id": "bb26d886",
   "metadata": {},
   "outputs": [],
   "source": [
    "chars=np.array(chars)"
   ]
  },
  {
   "cell_type": "code",
   "execution_count": 9,
   "id": "5357dab1",
   "metadata": {},
   "outputs": [
    {
     "data": {
      "image/png": "[encoded data removed]",
      "text/plain": [
       "<Figure size 480x480 with 1 Axes>"
      ]
     },
     "metadata": {},
     "output_type": "display_data"
    },
    {
     "name": "stdout",
     "output_type": "stream",
     "text": [
      "5\n"
     ]
    }
   ],
   "source": [
    "plt.matshow(vectors[0].reshape(28,28))\n",
    "plt.show()\n",
    "print(chars[0])"
   ]
  },
  {
   "cell_type": "markdown",
   "id": "89608ad5",
   "metadata": {},
   "source": [
    "# KNN"
   ]
  },
  {
   "attachments": {},
   "cell_type": "markdown",
   "id": "f823a15f",
   "metadata": {},
   "source": [
    "#### MNIST"
   ]
  },
  {
   "cell_type": "code",
   "execution_count": 36,
   "id": "08aa0774",
   "metadata": {},
   "outputs": [],
   "source": [
    "X_train, X_test, y_train, y_test = train_test_split(vectors,chars,test_size=0.20, random_state=42)"
   ]
  },
  {
   "cell_type": "code",
   "execution_count": 37,
   "id": "16980ef9",
   "metadata": {},
   "outputs": [
    {
     "data": {
      "text/plain": [
       "(4800, 784)"
      ]
     },
     "execution_count": 37,
     "metadata": {},
     "output_type": "execute_result"
    }
   ],
   "source": [
    "X_train.shape"
   ]
  },
  {
   "cell_type": "code",
   "execution_count": 38,
   "id": "d2f91b76",
   "metadata": {},
   "outputs": [
    {
     "data": {
      "text/plain": [
       "(1200, 784)"
      ]
     },
     "execution_count": 38,
     "metadata": {},
     "output_type": "execute_result"
    }
   ],
   "source": [
    "X_test.shape"
   ]
  },
  {
   "cell_type": "code",
   "execution_count": 28,
   "id": "3599f174",
   "metadata": {},
   "outputs": [],
   "source": [
    "def predict(Xtrain,train_labels,test_point,k):\n",
    "    X_train=Xtrain.copy()\n",
    "    for i in range(X_train.shape[1]):\n",
    "        X_train[:,i]=X_train[:,i].astype(float)-test_point[i]\n",
    "    distances = np.linalg.norm(X_train, axis=1)\n",
    "    nearest_neighbors = np.argsort(distances)[:k]\n",
    "    nearest_neighbors=nearest_neighbors.astype(int)\n",
    "    closets_neigh=train_labels[nearest_neighbors]\n",
    "    return st.mode(closets_neigh)[0][0]"
   ]
  },
  {
   "cell_type": "code",
   "execution_count": 41,
   "id": "6f3ea75b",
   "metadata": {},
   "outputs": [
    {
     "name": "stdout",
     "output_type": "stream",
     "text": [
      "1\n"
     ]
    },
    {
     "name": "stderr",
     "output_type": "stream",
     "text": [
      "C:\\Users\\afrincon\\AppData\\Local\\Temp\\ipykernel_17076\\2953966927.py:9: FutureWarning: Unlike other reduction functions (e.g. `skew`, `kurtosis`), the default behavior of `mode` typically preserves the axis it acts along. In SciPy 1.11.0, this behavior will change: the default value of `keepdims` will become False, the `axis` over which the statistic is taken will be eliminated, and the value None will no longer be accepted. Set `keepdims` to True or False to avoid this warning.\n",
      "  return st.mode(closets_neigh)[0][0]\n",
      "c:\\Users\\afrincon\\Anaconda3\\lib\\site-packages\\scipy\\stats\\_stats_py.py:110: RuntimeWarning: The input array could not be properly checked for nan values. nan values will be ignored.\n",
      "  warnings.warn(\"The input array could not be properly \"\n",
      "C:\\Users\\afrincon\\AppData\\Local\\Temp\\ipykernel_17076\\2953966927.py:9: DeprecationWarning: Support for non-numeric arrays has been deprecated as of SciPy 1.9.0 and will be removed in 1.11.0. `pandas.DataFrame.mode` can be used instead, see https://pandas.pydata.org/docs/reference/api/pandas.DataFrame.mode.html.\n",
      "  return st.mode(closets_neigh)[0][0]\n"
     ]
    },
    {
     "name": "stdout",
     "output_type": "stream",
     "text": [
      "2\n",
      "3\n",
      "4\n",
      "5\n",
      "10\n",
      "50\n",
      "100\n",
      "150\n",
      "200\n",
      "500\n",
      "1000\n"
     ]
    }
   ],
   "source": [
    "\"\"\"\n",
    "embedding = PCA(n_components=2)#, normalized_stress='auto')\n",
    "X_transformed_train = embedding.fit_transform(X_train)\n",
    "X_transformed_train = np.vstack((X_transformed_train.T, y_train)).T\n",
    "X_transformed_test = embedding.fit_transform(X_test)\n",
    "\"\"\"\n",
    "def test(k):\n",
    "    success = 0\n",
    "    examples = X_test\n",
    "    for e in range(len(examples)):\n",
    "        z = predict(X_train,y_train,X_test[e],k)\n",
    "        if z == y_test[e]:\n",
    "            success += 1\n",
    "    return float(success) / len(examples)\n",
    "\n",
    "valor_k=[1,2,3,4,5,10,50,100,150,200,500,1000]\n",
    "yaccuracy_k=[]\n",
    "for k in valor_k:\n",
    "    print(k)\n",
    "    accuracy_k=test(k)\n",
    "    yaccuracy_k.append(accuracy_k)\n",
    "\n",
    "\n"
   ]
  },
  {
   "cell_type": "code",
   "execution_count": 42,
   "id": "e9e7a626",
   "metadata": {},
   "outputs": [
    {
     "name": "stdout",
     "output_type": "stream",
     "text": [
      "valor de k:  1 , accuracy:  0.9325\n",
      "valor de k:  2 , accuracy:  0.9116666666666666\n",
      "valor de k:  3 , accuracy:  0.925\n",
      "valor de k:  4 , accuracy:  0.9225\n",
      "valor de k:  5 , accuracy:  0.9208333333333333\n",
      "valor de k:  10 , accuracy:  0.9116666666666666\n",
      "valor de k:  50 , accuracy:  0.865\n",
      "valor de k:  100 , accuracy:  0.825\n",
      "valor de k:  150 , accuracy:  0.7908333333333334\n",
      "valor de k:  200 , accuracy:  0.7625\n",
      "valor de k:  500 , accuracy:  0.6641666666666667\n",
      "valor de k:  1000 , accuracy:  0.5525\n"
     ]
    },
    {
     "data": {
      "image/png": "[encoded data removed]",
      "text/plain": [
       "<Figure size 640x480 with 1 Axes>"
      ]
     },
     "metadata": {},
     "output_type": "display_data"
    }
   ],
   "source": [
    "valor_k=np.array([1,2,3,4,5,10,50,100,150,200,500,1000])\n",
    "for i in range(len(valor_k)):\n",
    "    print(\"valor de k: \", valor_k[i], \", accuracy: \", yaccuracy_k[i])\n",
    "plt.plot(valor_k,yaccuracy_k)\n",
    "plt.ylim(0,1)\n",
    "plt.show()"
   ]
  },
  {
   "attachments": {},
   "cell_type": "markdown",
   "id": "d42e1d3c",
   "metadata": {},
   "source": [
    "#### DIGITS"
   ]
  },
  {
   "cell_type": "code",
   "execution_count": 31,
   "id": "a72d8e5b",
   "metadata": {},
   "outputs": [],
   "source": [
    "digits['data'] = np.where(digits['data']>0,1,-1)"
   ]
  },
  {
   "cell_type": "code",
   "execution_count": 29,
   "id": "a6cade4c",
   "metadata": {},
   "outputs": [
    {
     "data": {
      "text/plain": [
       "(1797, 64)"
      ]
     },
     "execution_count": 29,
     "metadata": {},
     "output_type": "execute_result"
    }
   ],
   "source": [
    "digits[\"data\"].shape"
   ]
  },
  {
   "cell_type": "code",
   "execution_count": 30,
   "id": "5567cd91",
   "metadata": {},
   "outputs": [
    {
     "data": {
      "text/plain": [
       "array([0, 1, 2, ..., 8, 9, 8])"
      ]
     },
     "execution_count": 30,
     "metadata": {},
     "output_type": "execute_result"
    }
   ],
   "source": [
    "digits[\"target\"]"
   ]
  },
  {
   "cell_type": "code",
   "execution_count": 25,
   "id": "5d52c869",
   "metadata": {},
   "outputs": [],
   "source": [
    "X_train_digits, X_test_digits, y_train_digits, y_test_digits = train_test_split(digits['data'] ,digits[\"target\"],test_size=0.20, random_state=42)"
   ]
  },
  {
   "cell_type": "code",
   "execution_count": 40,
   "id": "e27e924a",
   "metadata": {},
   "outputs": [
    {
     "name": "stdout",
     "output_type": "stream",
     "text": [
      "1\n"
     ]
    },
    {
     "name": "stderr",
     "output_type": "stream",
     "text": [
      "C:\\Users\\afrincon\\AppData\\Local\\Temp\\ipykernel_17076\\2953966927.py:9: FutureWarning: Unlike other reduction functions (e.g. `skew`, `kurtosis`), the default behavior of `mode` typically preserves the axis it acts along. In SciPy 1.11.0, this behavior will change: the default value of `keepdims` will become False, the `axis` over which the statistic is taken will be eliminated, and the value None will no longer be accepted. Set `keepdims` to True or False to avoid this warning.\n",
      "  return st.mode(closets_neigh)[0][0]\n"
     ]
    },
    {
     "name": "stdout",
     "output_type": "stream",
     "text": [
      "2\n",
      "3\n",
      "4\n",
      "5\n",
      "6\n",
      "7\n",
      "8\n",
      "9\n",
      "10\n",
      "11\n",
      "12\n",
      "13\n",
      "14\n",
      "15\n",
      "16\n",
      "17\n",
      "18\n",
      "19\n",
      "20\n",
      "21\n",
      "22\n",
      "23\n",
      "24\n",
      "25\n",
      "26\n",
      "27\n",
      "28\n",
      "29\n",
      "30\n",
      "31\n",
      "32\n",
      "33\n",
      "34\n",
      "35\n",
      "36\n",
      "37\n",
      "38\n",
      "39\n",
      "40\n",
      "41\n",
      "42\n",
      "43\n",
      "44\n",
      "45\n",
      "46\n",
      "47\n",
      "48\n",
      "49\n",
      "50\n",
      "51\n",
      "52\n",
      "53\n",
      "54\n",
      "55\n",
      "56\n",
      "57\n",
      "58\n",
      "59\n",
      "60\n",
      "61\n",
      "62\n",
      "63\n",
      "64\n",
      "65\n",
      "66\n",
      "67\n",
      "68\n",
      "69\n",
      "70\n",
      "71\n",
      "72\n",
      "73\n",
      "74\n",
      "75\n",
      "76\n",
      "77\n",
      "78\n",
      "79\n",
      "80\n",
      "81\n",
      "82\n",
      "83\n",
      "84\n",
      "85\n",
      "86\n",
      "87\n",
      "88\n",
      "89\n",
      "90\n",
      "91\n",
      "92\n",
      "93\n",
      "94\n",
      "95\n",
      "96\n",
      "97\n",
      "98\n",
      "99\n",
      "100\n",
      "101\n",
      "102\n",
      "103\n",
      "104\n",
      "105\n",
      "106\n",
      "107\n",
      "108\n",
      "109\n",
      "110\n",
      "111\n",
      "112\n",
      "113\n",
      "114\n",
      "115\n",
      "116\n",
      "117\n",
      "118\n",
      "119\n",
      "120\n",
      "121\n",
      "122\n",
      "123\n",
      "124\n",
      "125\n",
      "126\n",
      "127\n",
      "128\n",
      "129\n",
      "130\n",
      "131\n",
      "132\n",
      "133\n",
      "134\n",
      "135\n",
      "136\n",
      "137\n",
      "138\n",
      "139\n",
      "140\n",
      "141\n",
      "142\n",
      "143\n",
      "144\n",
      "145\n",
      "146\n",
      "147\n",
      "148\n",
      "149\n",
      "150\n",
      "151\n",
      "152\n",
      "153\n",
      "154\n",
      "155\n",
      "156\n",
      "157\n",
      "158\n",
      "159\n",
      "160\n",
      "161\n",
      "162\n",
      "163\n",
      "164\n",
      "165\n",
      "166\n",
      "167\n",
      "168\n",
      "169\n",
      "170\n",
      "171\n",
      "172\n",
      "173\n",
      "174\n",
      "175\n",
      "176\n",
      "177\n",
      "178\n",
      "179\n",
      "180\n",
      "181\n",
      "182\n",
      "183\n",
      "184\n",
      "185\n",
      "186\n",
      "187\n",
      "188\n",
      "189\n",
      "190\n",
      "191\n",
      "192\n",
      "193\n",
      "194\n",
      "195\n",
      "196\n",
      "197\n",
      "198\n",
      "199\n"
     ]
    }
   ],
   "source": [
    "\"\"\"\"\n",
    "standardized_data_train = MinMaxScaler().fit_transform(X_train_digits)\n",
    "standardized_data_test = MinMaxScaler().fit_transform(X_test_digits)\n",
    "#(1797, 64)\n",
    "embedding = MDS(n_components=2)#, normalized_stress='auto')\n",
    "X_transformed_train_digits = embedding.fit_transform(standardized_data_train)\n",
    "\n",
    "X_transformed_train_digits = np.vstack((X_transformed_train_digits.T, y_train_digits)).T\n",
    "X_transformed_test_digits = embedding.fit_transform(standardized_data_test)\n",
    "\"\"\"\n",
    "\n",
    "def test(k):\n",
    "    success = 0\n",
    "    examples = X_test_digits\n",
    "    for e in range(len(examples)):\n",
    "        z = predict(X_train_digits,y_train_digits,X_test_digits[e],k)\n",
    "        if z == y_test_digits[e]:\n",
    "            success += 1\n",
    "    return float(success) / len(examples)\n",
    "\n",
    "valor_k=np.arange(1,200,1)\n",
    "yaccuracy_k=[]\n",
    "for k in valor_k:\n",
    "    print(k)\n",
    "    accuracy_k=test(k)\n",
    "    yaccuracy_k.append(accuracy_k)"
   ]
  },
  {
   "cell_type": "code",
   "execution_count": 35,
   "id": "7d05ebac",
   "metadata": {},
   "outputs": [
    {
     "name": "stdout",
     "output_type": "stream",
     "text": [
      "valor de k:  1 , accuracy:  0.8916666666666667\n",
      "valor de k:  2 , accuracy:  0.875\n",
      "valor de k:  3 , accuracy:  0.9111111111111111\n",
      "valor de k:  4 , accuracy:  0.9194444444444444\n",
      "valor de k:  5 , accuracy:  0.9111111111111111\n",
      "valor de k:  6 , accuracy:  0.9055555555555556\n",
      "valor de k:  7 , accuracy:  0.925\n",
      "valor de k:  8 , accuracy:  0.9083333333333333\n",
      "valor de k:  9 , accuracy:  0.9166666666666666\n",
      "valor de k:  10 , accuracy:  0.9166666666666666\n",
      "valor de k:  11 , accuracy:  0.9055555555555556\n",
      "valor de k:  12 , accuracy:  0.9083333333333333\n",
      "valor de k:  13 , accuracy:  0.9055555555555556\n",
      "valor de k:  14 , accuracy:  0.9\n",
      "valor de k:  15 , accuracy:  0.8972222222222223\n",
      "valor de k:  16 , accuracy:  0.8972222222222223\n",
      "valor de k:  17 , accuracy:  0.8944444444444445\n",
      "valor de k:  18 , accuracy:  0.9\n",
      "valor de k:  19 , accuracy:  0.9111111111111111\n",
      "valor de k:  20 , accuracy:  0.9111111111111111\n",
      "valor de k:  21 , accuracy:  0.9083333333333333\n",
      "valor de k:  22 , accuracy:  0.9055555555555556\n",
      "valor de k:  23 , accuracy:  0.9\n",
      "valor de k:  24 , accuracy:  0.9\n",
      "valor de k:  25 , accuracy:  0.8944444444444445\n",
      "valor de k:  26 , accuracy:  0.8972222222222223\n",
      "valor de k:  27 , accuracy:  0.8916666666666667\n",
      "valor de k:  28 , accuracy:  0.8916666666666667\n",
      "valor de k:  29 , accuracy:  0.8944444444444445\n",
      "valor de k:  30 , accuracy:  0.8972222222222223\n",
      "valor de k:  31 , accuracy:  0.8944444444444445\n",
      "valor de k:  32 , accuracy:  0.9\n",
      "valor de k:  33 , accuracy:  0.8972222222222223\n",
      "valor de k:  34 , accuracy:  0.8944444444444445\n",
      "valor de k:  35 , accuracy:  0.9\n",
      "valor de k:  36 , accuracy:  0.8916666666666667\n",
      "valor de k:  37 , accuracy:  0.8888888888888888\n",
      "valor de k:  38 , accuracy:  0.8944444444444445\n",
      "valor de k:  39 , accuracy:  0.8888888888888888\n",
      "valor de k:  40 , accuracy:  0.8833333333333333\n",
      "valor de k:  41 , accuracy:  0.8833333333333333\n",
      "valor de k:  42 , accuracy:  0.8861111111111111\n",
      "valor de k:  43 , accuracy:  0.8861111111111111\n",
      "valor de k:  44 , accuracy:  0.8861111111111111\n",
      "valor de k:  45 , accuracy:  0.8833333333333333\n",
      "valor de k:  46 , accuracy:  0.8833333333333333\n",
      "valor de k:  47 , accuracy:  0.8777777777777778\n",
      "valor de k:  48 , accuracy:  0.8833333333333333\n",
      "valor de k:  49 , accuracy:  0.8833333333333333\n",
      "valor de k:  50 , accuracy:  0.8833333333333333\n",
      "valor de k:  51 , accuracy:  0.8833333333333333\n",
      "valor de k:  52 , accuracy:  0.8805555555555555\n",
      "valor de k:  53 , accuracy:  0.8805555555555555\n",
      "valor de k:  54 , accuracy:  0.8833333333333333\n",
      "valor de k:  55 , accuracy:  0.8833333333333333\n",
      "valor de k:  56 , accuracy:  0.8805555555555555\n",
      "valor de k:  57 , accuracy:  0.8805555555555555\n",
      "valor de k:  58 , accuracy:  0.8805555555555555\n",
      "valor de k:  59 , accuracy:  0.8833333333333333\n",
      "valor de k:  60 , accuracy:  0.8861111111111111\n",
      "valor de k:  61 , accuracy:  0.8805555555555555\n",
      "valor de k:  62 , accuracy:  0.8833333333333333\n",
      "valor de k:  63 , accuracy:  0.8833333333333333\n",
      "valor de k:  64 , accuracy:  0.8805555555555555\n",
      "valor de k:  65 , accuracy:  0.8805555555555555\n",
      "valor de k:  66 , accuracy:  0.8805555555555555\n",
      "valor de k:  67 , accuracy:  0.8805555555555555\n",
      "valor de k:  68 , accuracy:  0.8777777777777778\n",
      "valor de k:  69 , accuracy:  0.8861111111111111\n",
      "valor de k:  70 , accuracy:  0.8861111111111111\n",
      "valor de k:  71 , accuracy:  0.8777777777777778\n",
      "valor de k:  72 , accuracy:  0.875\n",
      "valor de k:  73 , accuracy:  0.8777777777777778\n",
      "valor de k:  74 , accuracy:  0.8833333333333333\n",
      "valor de k:  75 , accuracy:  0.8833333333333333\n",
      "valor de k:  76 , accuracy:  0.8805555555555555\n",
      "valor de k:  77 , accuracy:  0.8805555555555555\n",
      "valor de k:  78 , accuracy:  0.8833333333333333\n",
      "valor de k:  79 , accuracy:  0.8805555555555555\n",
      "valor de k:  80 , accuracy:  0.8805555555555555\n",
      "valor de k:  81 , accuracy:  0.8833333333333333\n",
      "valor de k:  82 , accuracy:  0.8833333333333333\n",
      "valor de k:  83 , accuracy:  0.8833333333333333\n",
      "valor de k:  84 , accuracy:  0.8805555555555555\n",
      "valor de k:  85 , accuracy:  0.8805555555555555\n",
      "valor de k:  86 , accuracy:  0.8833333333333333\n",
      "valor de k:  87 , accuracy:  0.8805555555555555\n",
      "valor de k:  88 , accuracy:  0.8805555555555555\n",
      "valor de k:  89 , accuracy:  0.8777777777777778\n",
      "valor de k:  90 , accuracy:  0.8805555555555555\n",
      "valor de k:  91 , accuracy:  0.8777777777777778\n",
      "valor de k:  92 , accuracy:  0.8777777777777778\n",
      "valor de k:  93 , accuracy:  0.8777777777777778\n",
      "valor de k:  94 , accuracy:  0.8833333333333333\n",
      "valor de k:  95 , accuracy:  0.8805555555555555\n",
      "valor de k:  96 , accuracy:  0.8805555555555555\n",
      "valor de k:  97 , accuracy:  0.8777777777777778\n",
      "valor de k:  98 , accuracy:  0.8722222222222222\n",
      "valor de k:  99 , accuracy:  0.875\n",
      "valor de k:  100 , accuracy:  0.875\n",
      "valor de k:  101 , accuracy:  0.875\n",
      "valor de k:  102 , accuracy:  0.875\n",
      "valor de k:  103 , accuracy:  0.875\n",
      "valor de k:  104 , accuracy:  0.875\n",
      "valor de k:  105 , accuracy:  0.875\n",
      "valor de k:  106 , accuracy:  0.875\n",
      "valor de k:  107 , accuracy:  0.875\n",
      "valor de k:  108 , accuracy:  0.875\n",
      "valor de k:  109 , accuracy:  0.875\n",
      "valor de k:  110 , accuracy:  0.875\n",
      "valor de k:  111 , accuracy:  0.8722222222222222\n",
      "valor de k:  112 , accuracy:  0.8666666666666667\n",
      "valor de k:  113 , accuracy:  0.8694444444444445\n",
      "valor de k:  114 , accuracy:  0.8666666666666667\n",
      "valor de k:  115 , accuracy:  0.8638888888888889\n",
      "valor de k:  116 , accuracy:  0.8638888888888889\n",
      "valor de k:  117 , accuracy:  0.8638888888888889\n",
      "valor de k:  118 , accuracy:  0.8611111111111112\n",
      "valor de k:  119 , accuracy:  0.8611111111111112\n",
      "valor de k:  120 , accuracy:  0.8638888888888889\n",
      "valor de k:  121 , accuracy:  0.8611111111111112\n",
      "valor de k:  122 , accuracy:  0.8638888888888889\n",
      "valor de k:  123 , accuracy:  0.8611111111111112\n",
      "valor de k:  124 , accuracy:  0.8638888888888889\n",
      "valor de k:  125 , accuracy:  0.8611111111111112\n",
      "valor de k:  126 , accuracy:  0.8611111111111112\n",
      "valor de k:  127 , accuracy:  0.8638888888888889\n",
      "valor de k:  128 , accuracy:  0.8611111111111112\n",
      "valor de k:  129 , accuracy:  0.8666666666666667\n",
      "valor de k:  130 , accuracy:  0.8638888888888889\n",
      "valor de k:  131 , accuracy:  0.8611111111111112\n",
      "valor de k:  132 , accuracy:  0.8666666666666667\n",
      "valor de k:  133 , accuracy:  0.8638888888888889\n",
      "valor de k:  134 , accuracy:  0.8638888888888889\n",
      "valor de k:  135 , accuracy:  0.8611111111111112\n",
      "valor de k:  136 , accuracy:  0.8611111111111112\n",
      "valor de k:  137 , accuracy:  0.8583333333333333\n",
      "valor de k:  138 , accuracy:  0.8583333333333333\n",
      "valor de k:  139 , accuracy:  0.8638888888888889\n",
      "valor de k:  140 , accuracy:  0.8638888888888889\n",
      "valor de k:  141 , accuracy:  0.8638888888888889\n",
      "valor de k:  142 , accuracy:  0.8666666666666667\n",
      "valor de k:  143 , accuracy:  0.8611111111111112\n",
      "valor de k:  144 , accuracy:  0.8611111111111112\n",
      "valor de k:  145 , accuracy:  0.8583333333333333\n",
      "valor de k:  146 , accuracy:  0.8583333333333333\n",
      "valor de k:  147 , accuracy:  0.8611111111111112\n",
      "valor de k:  148 , accuracy:  0.8583333333333333\n",
      "valor de k:  149 , accuracy:  0.8583333333333333\n",
      "valor de k:  150 , accuracy:  0.8555555555555555\n",
      "valor de k:  151 , accuracy:  0.8555555555555555\n",
      "valor de k:  152 , accuracy:  0.8527777777777777\n",
      "valor de k:  153 , accuracy:  0.8583333333333333\n",
      "valor de k:  154 , accuracy:  0.8555555555555555\n",
      "valor de k:  155 , accuracy:  0.8583333333333333\n",
      "valor de k:  156 , accuracy:  0.8583333333333333\n",
      "valor de k:  157 , accuracy:  0.8583333333333333\n",
      "valor de k:  158 , accuracy:  0.8611111111111112\n",
      "valor de k:  159 , accuracy:  0.8527777777777777\n",
      "valor de k:  160 , accuracy:  0.8472222222222222\n",
      "valor de k:  161 , accuracy:  0.8472222222222222\n",
      "valor de k:  162 , accuracy:  0.8472222222222222\n",
      "valor de k:  163 , accuracy:  0.8472222222222222\n",
      "valor de k:  164 , accuracy:  0.85\n",
      "valor de k:  165 , accuracy:  0.85\n",
      "valor de k:  166 , accuracy:  0.85\n",
      "valor de k:  167 , accuracy:  0.85\n",
      "valor de k:  168 , accuracy:  0.85\n",
      "valor de k:  169 , accuracy:  0.85\n",
      "valor de k:  170 , accuracy:  0.85\n",
      "valor de k:  171 , accuracy:  0.85\n",
      "valor de k:  172 , accuracy:  0.85\n",
      "valor de k:  173 , accuracy:  0.8472222222222222\n",
      "valor de k:  174 , accuracy:  0.85\n",
      "valor de k:  175 , accuracy:  0.85\n",
      "valor de k:  176 , accuracy:  0.85\n",
      "valor de k:  177 , accuracy:  0.8472222222222222\n",
      "valor de k:  178 , accuracy:  0.85\n",
      "valor de k:  179 , accuracy:  0.85\n",
      "valor de k:  180 , accuracy:  0.85\n",
      "valor de k:  181 , accuracy:  0.85\n",
      "valor de k:  182 , accuracy:  0.85\n",
      "valor de k:  183 , accuracy:  0.85\n",
      "valor de k:  184 , accuracy:  0.85\n",
      "valor de k:  185 , accuracy:  0.8527777777777777\n",
      "valor de k:  186 , accuracy:  0.8527777777777777\n",
      "valor de k:  187 , accuracy:  0.8472222222222222\n",
      "valor de k:  188 , accuracy:  0.8472222222222222\n",
      "valor de k:  189 , accuracy:  0.8472222222222222\n",
      "valor de k:  190 , accuracy:  0.8472222222222222\n",
      "valor de k:  191 , accuracy:  0.85\n",
      "valor de k:  192 , accuracy:  0.8555555555555555\n",
      "valor de k:  193 , accuracy:  0.8527777777777777\n",
      "valor de k:  194 , accuracy:  0.8555555555555555\n",
      "valor de k:  195 , accuracy:  0.8611111111111112\n",
      "valor de k:  196 , accuracy:  0.8583333333333333\n",
      "valor de k:  197 , accuracy:  0.8611111111111112\n",
      "valor de k:  198 , accuracy:  0.8611111111111112\n",
      "valor de k:  199 , accuracy:  0.8611111111111112\n"
     ]
    },
    {
     "data": {
      "image/png": "[encoded data removed]",
      "text/plain": [
       "<Figure size 640x480 with 1 Axes>"
      ]
     },
     "metadata": {},
     "output_type": "display_data"
    }
   ],
   "source": [
    "valor_k=np.array(valor_k)\n",
    "for i in range(len(valor_k)):\n",
    "    print(\"valor de k: \", valor_k[i], \", accuracy: \", yaccuracy_k[i])\n",
    "plt.plot(valor_k,yaccuracy_k)\n",
    "plt.ylim(0,1)\n",
    "plt.show()"
   ]
  },
  {
   "cell_type": "markdown",
   "id": "49edf076",
   "metadata": {},
   "source": [
    "## Prostate"
   ]
  },
  {
   "cell_type": "code",
   "execution_count": 53,
   "id": "ca1cd0f4",
   "metadata": {},
   "outputs": [],
   "source": [
    "import pandas as pd"
   ]
  },
  {
   "cell_type": "code",
   "execution_count": 54,
   "id": "d993ea3a",
   "metadata": {},
   "outputs": [
    {
     "data": {
      "text/html": [
       "<div>\n",
       "<style scoped>\n",
       "    .dataframe tbody tr th:only-of-type {\n",
       "        vertical-align: middle;\n",
       "    }\n",
       "\n",
       "    .dataframe tbody tr th {\n",
       "        vertical-align: top;\n",
       "    }\n",
       "\n",
       "    .dataframe thead th {\n",
       "        text-align: right;\n",
       "    }\n",
       "</style>\n",
       "<table border=\"1\" class=\"dataframe\">\n",
       "  <thead>\n",
       "    <tr style=\"text-align: right;\">\n",
       "      <th></th>\n",
       "      <th>lcavol</th>\n",
       "      <th>lweight</th>\n",
       "      <th>age</th>\n",
       "      <th>lbph</th>\n",
       "      <th>svi</th>\n",
       "      <th>lcp</th>\n",
       "      <th>gleason</th>\n",
       "      <th>pgg45</th>\n",
       "      <th>lpsa</th>\n",
       "    </tr>\n",
       "  </thead>\n",
       "  <tbody>\n",
       "    <tr>\n",
       "      <th>0</th>\n",
       "      <td>-0.579818</td>\n",
       "      <td>2.769459</td>\n",
       "      <td>50</td>\n",
       "      <td>-1.386294</td>\n",
       "      <td>0</td>\n",
       "      <td>-1.386294</td>\n",
       "      <td>6</td>\n",
       "      <td>0</td>\n",
       "      <td>-0.430783</td>\n",
       "    </tr>\n",
       "    <tr>\n",
       "      <th>1</th>\n",
       "      <td>-0.994252</td>\n",
       "      <td>3.319626</td>\n",
       "      <td>58</td>\n",
       "      <td>-1.386294</td>\n",
       "      <td>0</td>\n",
       "      <td>-1.386294</td>\n",
       "      <td>6</td>\n",
       "      <td>0</td>\n",
       "      <td>-0.162519</td>\n",
       "    </tr>\n",
       "    <tr>\n",
       "      <th>2</th>\n",
       "      <td>-0.510826</td>\n",
       "      <td>2.691243</td>\n",
       "      <td>74</td>\n",
       "      <td>-1.386294</td>\n",
       "      <td>0</td>\n",
       "      <td>-1.386294</td>\n",
       "      <td>7</td>\n",
       "      <td>20</td>\n",
       "      <td>-0.162519</td>\n",
       "    </tr>\n",
       "    <tr>\n",
       "      <th>3</th>\n",
       "      <td>-1.203973</td>\n",
       "      <td>3.282789</td>\n",
       "      <td>58</td>\n",
       "      <td>-1.386294</td>\n",
       "      <td>0</td>\n",
       "      <td>-1.386294</td>\n",
       "      <td>6</td>\n",
       "      <td>0</td>\n",
       "      <td>-0.162519</td>\n",
       "    </tr>\n",
       "    <tr>\n",
       "      <th>4</th>\n",
       "      <td>0.751416</td>\n",
       "      <td>3.432373</td>\n",
       "      <td>62</td>\n",
       "      <td>-1.386294</td>\n",
       "      <td>0</td>\n",
       "      <td>-1.386294</td>\n",
       "      <td>6</td>\n",
       "      <td>0</td>\n",
       "      <td>0.371564</td>\n",
       "    </tr>\n",
       "    <tr>\n",
       "      <th>...</th>\n",
       "      <td>...</td>\n",
       "      <td>...</td>\n",
       "      <td>...</td>\n",
       "      <td>...</td>\n",
       "      <td>...</td>\n",
       "      <td>...</td>\n",
       "      <td>...</td>\n",
       "      <td>...</td>\n",
       "      <td>...</td>\n",
       "    </tr>\n",
       "    <tr>\n",
       "      <th>92</th>\n",
       "      <td>2.830268</td>\n",
       "      <td>3.876396</td>\n",
       "      <td>68</td>\n",
       "      <td>-1.386294</td>\n",
       "      <td>1</td>\n",
       "      <td>1.321756</td>\n",
       "      <td>7</td>\n",
       "      <td>60</td>\n",
       "      <td>4.385147</td>\n",
       "    </tr>\n",
       "    <tr>\n",
       "      <th>93</th>\n",
       "      <td>3.821004</td>\n",
       "      <td>3.896909</td>\n",
       "      <td>44</td>\n",
       "      <td>-1.386294</td>\n",
       "      <td>1</td>\n",
       "      <td>2.169054</td>\n",
       "      <td>7</td>\n",
       "      <td>40</td>\n",
       "      <td>4.684443</td>\n",
       "    </tr>\n",
       "    <tr>\n",
       "      <th>94</th>\n",
       "      <td>2.907447</td>\n",
       "      <td>3.396185</td>\n",
       "      <td>52</td>\n",
       "      <td>-1.386294</td>\n",
       "      <td>1</td>\n",
       "      <td>2.463853</td>\n",
       "      <td>7</td>\n",
       "      <td>10</td>\n",
       "      <td>5.143124</td>\n",
       "    </tr>\n",
       "    <tr>\n",
       "      <th>95</th>\n",
       "      <td>2.882564</td>\n",
       "      <td>3.773910</td>\n",
       "      <td>68</td>\n",
       "      <td>1.558145</td>\n",
       "      <td>1</td>\n",
       "      <td>1.558145</td>\n",
       "      <td>7</td>\n",
       "      <td>80</td>\n",
       "      <td>5.477509</td>\n",
       "    </tr>\n",
       "    <tr>\n",
       "      <th>96</th>\n",
       "      <td>3.471966</td>\n",
       "      <td>3.974998</td>\n",
       "      <td>68</td>\n",
       "      <td>0.438255</td>\n",
       "      <td>1</td>\n",
       "      <td>2.904165</td>\n",
       "      <td>7</td>\n",
       "      <td>20</td>\n",
       "      <td>5.582932</td>\n",
       "    </tr>\n",
       "  </tbody>\n",
       "</table>\n",
       "<p>97 rows × 9 columns</p>\n",
       "</div>"
      ],
      "text/plain": [
       "      lcavol   lweight  age      lbph  svi       lcp  gleason  pgg45      lpsa\n",
       "0  -0.579818  2.769459   50 -1.386294    0 -1.386294        6      0 -0.430783\n",
       "1  -0.994252  3.319626   58 -1.386294    0 -1.386294        6      0 -0.162519\n",
       "2  -0.510826  2.691243   74 -1.386294    0 -1.386294        7     20 -0.162519\n",
       "3  -1.203973  3.282789   58 -1.386294    0 -1.386294        6      0 -0.162519\n",
       "4   0.751416  3.432373   62 -1.386294    0 -1.386294        6      0  0.371564\n",
       "..       ...       ...  ...       ...  ...       ...      ...    ...       ...\n",
       "92  2.830268  3.876396   68 -1.386294    1  1.321756        7     60  4.385147\n",
       "93  3.821004  3.896909   44 -1.386294    1  2.169054        7     40  4.684443\n",
       "94  2.907447  3.396185   52 -1.386294    1  2.463853        7     10  5.143124\n",
       "95  2.882564  3.773910   68  1.558145    1  1.558145        7     80  5.477509\n",
       "96  3.471966  3.974998   68  0.438255    1  2.904165        7     20  5.582932\n",
       "\n",
       "[97 rows x 9 columns]"
      ]
     },
     "execution_count": 54,
     "metadata": {},
     "output_type": "execute_result"
    }
   ],
   "source": [
    "prostate_data = pd.read_csv('prostate.csv')\n",
    "prostate_data"
   ]
  },
  {
   "cell_type": "code",
   "execution_count": 55,
   "id": "4d485124",
   "metadata": {},
   "outputs": [
    {
     "data": {
      "text/plain": [
       "0    76\n",
       "1    21\n",
       "Name: svi, dtype: int64"
      ]
     },
     "execution_count": 55,
     "metadata": {},
     "output_type": "execute_result"
    }
   ],
   "source": [
    "prostate_data[\"svi\"].value_counts()"
   ]
  },
  {
   "cell_type": "code",
   "execution_count": 56,
   "id": "dcc7b2cc",
   "metadata": {},
   "outputs": [],
   "source": [
    "#Divide the data set, and apply the K-NN. Test the accuracy, the training error, and the test error.\n",
    "Prostate_train, Prostate_test = train_test_split(prostate_data,test_size=0.20, random_state=42)"
   ]
  },
  {
   "cell_type": "code",
   "execution_count": 57,
   "id": "1e4e7c97",
   "metadata": {},
   "outputs": [],
   "source": [
    "def predict(Xtrain,train_labels,test_point,k):\n",
    "    X_train=Xtrain.copy()\n",
    "    for i in range(X_train.shape[1]):\n",
    "        X_train[:,i]=X_train[:,i].astype(float)-test_point[i]\n",
    "    distances = np.linalg.norm(X_train, axis=1)\n",
    "    nearest_neighbors = np.argsort(distances)[:k]\n",
    "    nearest_neighbors=nearest_neighbors.astype(int)\n",
    "    closets_neigh=train_labels[nearest_neighbors]\n",
    "    return st.mode(closets_neigh)[0][0]"
   ]
  },
  {
   "cell_type": "code",
   "execution_count": 58,
   "id": "4c1d4bcb",
   "metadata": {},
   "outputs": [],
   "source": [
    "X_train_label=Prostate_train[\"svi\"]\n",
    "X_train=Prostate_train.drop(columns=[\"svi\"])\n",
    "X_test_label=Prostate_test[\"svi\"]\n",
    "X_test=Prostate_test.drop(columns=[\"svi\"])\n"
   ]
  },
  {
   "cell_type": "code",
   "execution_count": 59,
   "id": "1b9d0110",
   "metadata": {},
   "outputs": [
    {
     "name": "stderr",
     "output_type": "stream",
     "text": [
      "C:\\Users\\afrincon\\AppData\\Local\\Temp\\ipykernel_17076\\2953966927.py:9: FutureWarning: Unlike other reduction functions (e.g. `skew`, `kurtosis`), the default behavior of `mode` typically preserves the axis it acts along. In SciPy 1.11.0, this behavior will change: the default value of `keepdims` will become False, the `axis` over which the statistic is taken will be eliminated, and the value None will no longer be accepted. Set `keepdims` to True or False to avoid this warning.\n",
      "  return st.mode(closets_neigh)[0][0]\n"
     ]
    }
   ],
   "source": [
    "def test(k):\n",
    "    success = 0\n",
    "    examples = X_test.values\n",
    "    for e in range(len(examples)):\n",
    "        z = predict(X_train.values,X_train_label.values,X_test.values[e],k)\n",
    "        if z == X_test_label.values[e]:\n",
    "            success += 1\n",
    "    return float(success) / len(examples)\n",
    "\n",
    "valor_k=np.arange(1,100,1)\n",
    "yaccuracy_k=[]\n",
    "for k in valor_k:\n",
    "    accuracy_k=test(k)\n",
    "    yaccuracy_k.append(accuracy_k)"
   ]
  },
  {
   "cell_type": "code",
   "execution_count": 60,
   "id": "a18f3eef",
   "metadata": {},
   "outputs": [
    {
     "name": "stdout",
     "output_type": "stream",
     "text": [
      "valor de k:  1 , accuracy:  0.7\n",
      "valor de k:  2 , accuracy:  0.75\n",
      "valor de k:  3 , accuracy:  0.75\n",
      "valor de k:  4 , accuracy:  0.7\n",
      "valor de k:  5 , accuracy:  0.65\n",
      "valor de k:  6 , accuracy:  0.7\n",
      "valor de k:  7 , accuracy:  0.75\n",
      "valor de k:  8 , accuracy:  0.7\n",
      "valor de k:  9 , accuracy:  0.65\n",
      "valor de k:  10 , accuracy:  0.7\n",
      "valor de k:  11 , accuracy:  0.7\n",
      "valor de k:  12 , accuracy:  0.7\n",
      "valor de k:  13 , accuracy:  0.7\n",
      "valor de k:  14 , accuracy:  0.8\n",
      "valor de k:  15 , accuracy:  0.8\n",
      "valor de k:  16 , accuracy:  0.8\n",
      "valor de k:  17 , accuracy:  0.8\n",
      "valor de k:  18 , accuracy:  0.8\n",
      "valor de k:  19 , accuracy:  0.8\n",
      "valor de k:  20 , accuracy:  0.8\n",
      "valor de k:  21 , accuracy:  0.65\n",
      "valor de k:  22 , accuracy:  0.8\n",
      "valor de k:  23 , accuracy:  0.8\n",
      "valor de k:  24 , accuracy:  0.8\n",
      "valor de k:  25 , accuracy:  0.9\n",
      "valor de k:  26 , accuracy:  0.85\n",
      "valor de k:  27 , accuracy:  0.75\n",
      "valor de k:  28 , accuracy:  0.8\n",
      "valor de k:  29 , accuracy:  0.75\n",
      "valor de k:  30 , accuracy:  0.8\n",
      "valor de k:  31 , accuracy:  0.8\n",
      "valor de k:  32 , accuracy:  0.8\n",
      "valor de k:  33 , accuracy:  0.8\n",
      "valor de k:  34 , accuracy:  0.8\n",
      "valor de k:  35 , accuracy:  0.8\n",
      "valor de k:  36 , accuracy:  0.8\n",
      "valor de k:  37 , accuracy:  0.8\n",
      "valor de k:  38 , accuracy:  0.8\n",
      "valor de k:  39 , accuracy:  0.8\n",
      "valor de k:  40 , accuracy:  0.8\n",
      "valor de k:  41 , accuracy:  0.8\n",
      "valor de k:  42 , accuracy:  0.8\n",
      "valor de k:  43 , accuracy:  0.8\n",
      "valor de k:  44 , accuracy:  0.8\n",
      "valor de k:  45 , accuracy:  0.8\n",
      "valor de k:  46 , accuracy:  0.8\n",
      "valor de k:  47 , accuracy:  0.8\n",
      "valor de k:  48 , accuracy:  0.8\n",
      "valor de k:  49 , accuracy:  0.8\n",
      "valor de k:  50 , accuracy:  0.8\n",
      "valor de k:  51 , accuracy:  0.8\n",
      "valor de k:  52 , accuracy:  0.8\n",
      "valor de k:  53 , accuracy:  0.8\n",
      "valor de k:  54 , accuracy:  0.8\n",
      "valor de k:  55 , accuracy:  0.8\n",
      "valor de k:  56 , accuracy:  0.8\n",
      "valor de k:  57 , accuracy:  0.8\n",
      "valor de k:  58 , accuracy:  0.8\n",
      "valor de k:  59 , accuracy:  0.8\n",
      "valor de k:  60 , accuracy:  0.8\n",
      "valor de k:  61 , accuracy:  0.8\n",
      "valor de k:  62 , accuracy:  0.8\n",
      "valor de k:  63 , accuracy:  0.8\n",
      "valor de k:  64 , accuracy:  0.8\n",
      "valor de k:  65 , accuracy:  0.8\n",
      "valor de k:  66 , accuracy:  0.8\n",
      "valor de k:  67 , accuracy:  0.8\n",
      "valor de k:  68 , accuracy:  0.8\n",
      "valor de k:  69 , accuracy:  0.8\n",
      "valor de k:  70 , accuracy:  0.8\n",
      "valor de k:  71 , accuracy:  0.8\n",
      "valor de k:  72 , accuracy:  0.8\n",
      "valor de k:  73 , accuracy:  0.8\n",
      "valor de k:  74 , accuracy:  0.8\n",
      "valor de k:  75 , accuracy:  0.8\n",
      "valor de k:  76 , accuracy:  0.8\n",
      "valor de k:  77 , accuracy:  0.8\n",
      "valor de k:  78 , accuracy:  0.8\n",
      "valor de k:  79 , accuracy:  0.8\n",
      "valor de k:  80 , accuracy:  0.8\n",
      "valor de k:  81 , accuracy:  0.8\n",
      "valor de k:  82 , accuracy:  0.8\n",
      "valor de k:  83 , accuracy:  0.8\n",
      "valor de k:  84 , accuracy:  0.8\n",
      "valor de k:  85 , accuracy:  0.8\n",
      "valor de k:  86 , accuracy:  0.8\n",
      "valor de k:  87 , accuracy:  0.8\n",
      "valor de k:  88 , accuracy:  0.8\n",
      "valor de k:  89 , accuracy:  0.8\n",
      "valor de k:  90 , accuracy:  0.8\n",
      "valor de k:  91 , accuracy:  0.8\n",
      "valor de k:  92 , accuracy:  0.8\n",
      "valor de k:  93 , accuracy:  0.8\n",
      "valor de k:  94 , accuracy:  0.8\n",
      "valor de k:  95 , accuracy:  0.8\n",
      "valor de k:  96 , accuracy:  0.8\n",
      "valor de k:  97 , accuracy:  0.8\n",
      "valor de k:  98 , accuracy:  0.8\n",
      "valor de k:  99 , accuracy:  0.8\n"
     ]
    },
    {
     "data": {
      "image/png": "[encoded data removed]",
      "text/plain": [
       "<Figure size 640x480 with 1 Axes>"
      ]
     },
     "metadata": {},
     "output_type": "display_data"
    }
   ],
   "source": [
    "\n",
    "for i in range(len(valor_k)):\n",
    "    print(\"valor de k: \", valor_k[i], \", accuracy: \", yaccuracy_k[i])\n",
    "plt.plot(valor_k,yaccuracy_k)\n",
    "plt.title(\"Test data accuracy\")\n",
    "plt.ylim(0,1)\n",
    "plt.show()"
   ]
  },
  {
   "cell_type": "code",
   "execution_count": 61,
   "id": "e56bd892",
   "metadata": {},
   "outputs": [
    {
     "name": "stderr",
     "output_type": "stream",
     "text": [
      "C:\\Users\\afrincon\\AppData\\Local\\Temp\\ipykernel_17076\\2953966927.py:9: FutureWarning: Unlike other reduction functions (e.g. `skew`, `kurtosis`), the default behavior of `mode` typically preserves the axis it acts along. In SciPy 1.11.0, this behavior will change: the default value of `keepdims` will become False, the `axis` over which the statistic is taken will be eliminated, and the value None will no longer be accepted. Set `keepdims` to True or False to avoid this warning.\n",
      "  return st.mode(closets_neigh)[0][0]\n"
     ]
    }
   ],
   "source": [
    "def test(k):\n",
    "    success = 0\n",
    "    examples = X_train.values\n",
    "    for e in range(len(examples)):\n",
    "        z = predict(X_train.values,X_train_label.values,X_train.values[e],k)\n",
    "        if z == X_train_label.values[e]:\n",
    "            success += 1\n",
    "    return float(success) / len(examples)\n",
    "\n",
    "valor_k=np.arange(1,100,1)\n",
    "yaccuracy_k=[]\n",
    "for k in valor_k:\n",
    "    accuracy_k=test(k)\n",
    "    yaccuracy_k.append(accuracy_k)"
   ]
  },
  {
   "cell_type": "code",
   "execution_count": 66,
   "id": "49396cd9",
   "metadata": {},
   "outputs": [
    {
     "name": "stdout",
     "output_type": "stream",
     "text": [
      "valor de k:  1 , accuracy:  1.0\n",
      "valor de k:  2 , accuracy:  0.8701298701298701\n",
      "valor de k:  3 , accuracy:  0.8571428571428571\n",
      "valor de k:  4 , accuracy:  0.8571428571428571\n",
      "valor de k:  5 , accuracy:  0.8571428571428571\n",
      "valor de k:  6 , accuracy:  0.8311688311688312\n",
      "valor de k:  7 , accuracy:  0.8051948051948052\n",
      "valor de k:  8 , accuracy:  0.8441558441558441\n",
      "valor de k:  9 , accuracy:  0.8181818181818182\n",
      "valor de k:  10 , accuracy:  0.8311688311688312\n",
      "valor de k:  11 , accuracy:  0.8051948051948052\n",
      "valor de k:  12 , accuracy:  0.7792207792207793\n",
      "valor de k:  13 , accuracy:  0.8051948051948052\n",
      "valor de k:  14 , accuracy:  0.7922077922077922\n",
      "valor de k:  15 , accuracy:  0.7792207792207793\n",
      "valor de k:  16 , accuracy:  0.7792207792207793\n",
      "valor de k:  17 , accuracy:  0.7662337662337663\n",
      "valor de k:  18 , accuracy:  0.7792207792207793\n",
      "valor de k:  19 , accuracy:  0.7792207792207793\n",
      "valor de k:  20 , accuracy:  0.7792207792207793\n",
      "valor de k:  21 , accuracy:  0.7662337662337663\n",
      "valor de k:  22 , accuracy:  0.7792207792207793\n",
      "valor de k:  23 , accuracy:  0.8051948051948052\n",
      "valor de k:  24 , accuracy:  0.7792207792207793\n",
      "valor de k:  25 , accuracy:  0.7792207792207793\n",
      "valor de k:  26 , accuracy:  0.7792207792207793\n",
      "valor de k:  27 , accuracy:  0.8181818181818182\n",
      "valor de k:  28 , accuracy:  0.7922077922077922\n",
      "valor de k:  29 , accuracy:  0.7922077922077922\n",
      "valor de k:  30 , accuracy:  0.7792207792207793\n",
      "valor de k:  31 , accuracy:  0.7792207792207793\n",
      "valor de k:  32 , accuracy:  0.7792207792207793\n",
      "valor de k:  33 , accuracy:  0.7792207792207793\n",
      "valor de k:  34 , accuracy:  0.7792207792207793\n",
      "valor de k:  35 , accuracy:  0.7792207792207793\n",
      "valor de k:  36 , accuracy:  0.7792207792207793\n",
      "valor de k:  37 , accuracy:  0.7792207792207793\n",
      "valor de k:  38 , accuracy:  0.7792207792207793\n",
      "valor de k:  39 , accuracy:  0.7792207792207793\n",
      "valor de k:  40 , accuracy:  0.7792207792207793\n",
      "valor de k:  41 , accuracy:  0.7792207792207793\n",
      "valor de k:  42 , accuracy:  0.7792207792207793\n",
      "valor de k:  43 , accuracy:  0.7792207792207793\n",
      "valor de k:  44 , accuracy:  0.7792207792207793\n",
      "valor de k:  45 , accuracy:  0.7792207792207793\n",
      "valor de k:  46 , accuracy:  0.7792207792207793\n",
      "valor de k:  47 , accuracy:  0.7792207792207793\n",
      "valor de k:  48 , accuracy:  0.7792207792207793\n",
      "valor de k:  49 , accuracy:  0.7792207792207793\n",
      "valor de k:  50 , accuracy:  0.7792207792207793\n",
      "valor de k:  51 , accuracy:  0.7792207792207793\n",
      "valor de k:  52 , accuracy:  0.7792207792207793\n",
      "valor de k:  53 , accuracy:  0.7792207792207793\n",
      "valor de k:  54 , accuracy:  0.7792207792207793\n",
      "valor de k:  55 , accuracy:  0.7792207792207793\n",
      "valor de k:  56 , accuracy:  0.7792207792207793\n",
      "valor de k:  57 , accuracy:  0.7792207792207793\n",
      "valor de k:  58 , accuracy:  0.7792207792207793\n",
      "valor de k:  59 , accuracy:  0.7792207792207793\n",
      "valor de k:  60 , accuracy:  0.7792207792207793\n",
      "valor de k:  61 , accuracy:  0.7792207792207793\n",
      "valor de k:  62 , accuracy:  0.7792207792207793\n",
      "valor de k:  63 , accuracy:  0.7792207792207793\n",
      "valor de k:  64 , accuracy:  0.7792207792207793\n",
      "valor de k:  65 , accuracy:  0.7792207792207793\n",
      "valor de k:  66 , accuracy:  0.7792207792207793\n",
      "valor de k:  67 , accuracy:  0.7792207792207793\n",
      "valor de k:  68 , accuracy:  0.7792207792207793\n",
      "valor de k:  69 , accuracy:  0.7792207792207793\n",
      "valor de k:  70 , accuracy:  0.7792207792207793\n",
      "valor de k:  71 , accuracy:  0.7792207792207793\n",
      "valor de k:  72 , accuracy:  0.7792207792207793\n",
      "valor de k:  73 , accuracy:  0.7792207792207793\n",
      "valor de k:  74 , accuracy:  0.7792207792207793\n",
      "valor de k:  75 , accuracy:  0.7792207792207793\n",
      "valor de k:  76 , accuracy:  0.7792207792207793\n",
      "valor de k:  77 , accuracy:  0.7792207792207793\n",
      "valor de k:  78 , accuracy:  0.7792207792207793\n",
      "valor de k:  79 , accuracy:  0.7792207792207793\n",
      "valor de k:  80 , accuracy:  0.7792207792207793\n",
      "valor de k:  81 , accuracy:  0.7792207792207793\n",
      "valor de k:  82 , accuracy:  0.7792207792207793\n",
      "valor de k:  83 , accuracy:  0.7792207792207793\n",
      "valor de k:  84 , accuracy:  0.7792207792207793\n",
      "valor de k:  85 , accuracy:  0.7792207792207793\n",
      "valor de k:  86 , accuracy:  0.7792207792207793\n",
      "valor de k:  87 , accuracy:  0.7792207792207793\n",
      "valor de k:  88 , accuracy:  0.7792207792207793\n",
      "valor de k:  89 , accuracy:  0.7792207792207793\n",
      "valor de k:  90 , accuracy:  0.7792207792207793\n",
      "valor de k:  91 , accuracy:  0.7792207792207793\n",
      "valor de k:  92 , accuracy:  0.7792207792207793\n",
      "valor de k:  93 , accuracy:  0.7792207792207793\n",
      "valor de k:  94 , accuracy:  0.7792207792207793\n",
      "valor de k:  95 , accuracy:  0.7792207792207793\n",
      "valor de k:  96 , accuracy:  0.7792207792207793\n",
      "valor de k:  97 , accuracy:  0.7792207792207793\n",
      "valor de k:  98 , accuracy:  0.7792207792207793\n",
      "valor de k:  99 , accuracy:  0.7792207792207793\n"
     ]
    },
    {
     "data": {
      "image/png": "[encoded data removed]",
      "text/plain": [
       "<Figure size 640x480 with 1 Axes>"
      ]
     },
     "metadata": {},
     "output_type": "display_data"
    }
   ],
   "source": [
    "\n",
    "for i in range(len(valor_k)):\n",
    "    print(\"valor de k: \", valor_k[i], \", accuracy: \", yaccuracy_k[i])\n",
    "plt.plot(valor_k,yaccuracy_k)\n",
    "plt.title(\"Training data accuracy\")\n",
    "plt.ylim(0,1.1)\n",
    "plt.show()"
   ]
  },
  {
   "cell_type": "markdown",
   "id": "bbb4e6ce",
   "metadata": {},
   "source": [
    "# Perceptron"
   ]
  },
  {
   "cell_type": "code",
   "execution_count": 63,
   "id": "5276d8be",
   "metadata": {},
   "outputs": [],
   "source": [
    "data = [{'vector': v, 'char': c} for (v, c) in zip(vectors, chars)]"
   ]
  },
  {
   "cell_type": "code",
   "execution_count": 64,
   "id": "a535dd95",
   "metadata": {},
   "outputs": [
    {
     "ename": "IndentationError",
     "evalue": "expected an indented block (2579002564.py, line 10)",
     "output_type": "error",
     "traceback": [
      "\u001b[1;36m  File \u001b[1;32m\"C:\\Users\\afrincon\\AppData\\Local\\Temp\\ipykernel_17076\\2579002564.py\"\u001b[1;36m, line \u001b[1;32m10\u001b[0m\n\u001b[1;33m    elif z < 0 and y == target_char:\u001b[0m\n\u001b[1;37m    ^\u001b[0m\n\u001b[1;31mIndentationError\u001b[0m\u001b[1;31m:\u001b[0m expected an indented block\n"
     ]
    }
   ],
   "source": [
    "def train(target_char, opposite_char, steps):\n",
    "    train_data = data[:5000]\n",
    "    train_data = [e for e in train_data if e['char'] in (target_char, opposite_char)]\n",
    "    w = np.zeros(784)\n",
    "    i = 0\n",
    "    weights = w\n",
    "    # Implement perceptron, remember:\n",
    "    if z >= 0 and y == opposite_char:\n",
    "        #TODO\n",
    "    elif z < 0 and y == target_char:\n",
    "        #TODO\n",
    "    return w\n",
    "\n",
    "def error(target_char, opposite_char,data,w):\n",
    "    success = 0\n",
    "    for e in data:\n",
    "        z = np.dot(e['vector'], w)\n",
    "        if (z >= 0 and e['char'] == target_char) or (z < 0 and e['char'] == opposite_char):\n",
    "            success += 1\n",
    "    return float(success) / len(data)\n",
    "\n",
    "def test(target_char, opposite_char,weights):\n",
    "    success = 0\n",
    "    examples = data[5000:]\n",
    "\n",
    "    examples = [e for e in examples if e['char'] in (target_char, opposite_char)]\n",
    "\n",
    "    for e in examples:\n",
    "        z = np.dot(e['vector'], weights)\n",
    "        if (z >= 0 and e['char'] == target_char) or (z < 0 and e['char'] == opposite_char):\n",
    "            success += 1\n",
    "\n",
    "    return float(success) / len(examples)"
   ]
  },
  {
   "cell_type": "code",
   "execution_count": null,
   "id": "065433ef",
   "metadata": {},
   "outputs": [],
   "source": [
    "weights = train('1','2',100)"
   ]
  },
  {
   "cell_type": "code",
   "execution_count": null,
   "id": "a61e8dfa",
   "metadata": {},
   "outputs": [],
   "source": [
    "test('1','2',weights)"
   ]
  },
  {
   "cell_type": "code",
   "execution_count": null,
   "id": "13b67877",
   "metadata": {},
   "outputs": [],
   "source": []
  }
 ],
 "metadata": {
  "kernelspec": {
   "display_name": "base",
   "language": "python",
   "name": "python3"
  },
  "language_info": {
   "codemirror_mode": {
    "name": "ipython",
    "version": 3
   },
   "file_extension": ".py",
   "mimetype": "text/x-python",
   "name": "python",
   "nbconvert_exporter": "python",
   "pygments_lexer": "ipython3",
   "version": "3.9.13"
  },
  "vscode": {
   "interpreter": {
    "hash": "eabfd7d19aaf8c028d2e706059a933caf1b2347856756c8557b9aeb79deceee2"
   }
  }
 },
 "nbformat": 4,
 "nbformat_minor": 5
}

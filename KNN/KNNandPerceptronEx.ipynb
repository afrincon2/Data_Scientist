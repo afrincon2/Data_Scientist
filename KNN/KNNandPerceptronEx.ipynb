{
 "cells": [
  {
   "cell_type": "code",
   "execution_count": 1,
   "id": "eafc6f09",
   "metadata": {},
   "outputs": [],
   "source": [
    "from sklearn.preprocessing import StandardScaler\n",
    "from sklearn.model_selection import train_test_split\n",
    "from sklearn.preprocessing import MinMaxScaler\n",
    "from sklearn.datasets import load_digits\n",
    "from sklearn.decomposition import PCA\n",
    "from sklearn.manifold import MDS\n",
    "import matplotlib.pyplot as plt\n",
    "from scipy import stats as st\n",
    "import seaborn as sn\n",
    "import pandas as pd\n",
    "import numpy as np"
   ]
  },
  {
   "cell_type": "code",
   "execution_count": 2,
   "id": "3ebc39fc",
   "metadata": {},
   "outputs": [],
   "source": [
    "digits = load_digits()"
   ]
  },
  {
   "cell_type": "code",
   "execution_count": 3,
   "id": "29709b5e",
   "metadata": {},
   "outputs": [],
   "source": [
    "with open('mnist-y.data') as file:\n",
    "    chars = [line[0] for line in file]"
   ]
  },
  {
   "cell_type": "code",
   "execution_count": 4,
   "id": "c0eef959",
   "metadata": {},
   "outputs": [],
   "source": [
    "vectors = []\n",
    "with open('mnist-x.data') as file:\n",
    "    for line in file:\n",
    "        vectors.append([1.0 if float(v) == 1 else -1.0 for v in line.strip().split(',')])"
   ]
  },
  {
   "cell_type": "code",
   "execution_count": 5,
   "id": "ceacbd18",
   "metadata": {},
   "outputs": [
    {
     "data": {
      "text/plain": [
       "<Figure size 640x480 with 0 Axes>"
      ]
     },
     "metadata": {},
     "output_type": "display_data"
    },
    {
     "data": {
      "image/png": "[encoded data removed]",
      "text/plain": [
       "<Figure size 480x480 with 1 Axes>"
      ]
     },
     "metadata": {},
     "output_type": "display_data"
    }
   ],
   "source": [
    "import matplotlib.pyplot as plt\n",
    "plt.gray()\n",
    "plt.matshow(digits.images[1003])\n",
    "plt.show()"
   ]
  },
  {
   "cell_type": "code",
   "execution_count": 6,
   "id": "c3504538",
   "metadata": {},
   "outputs": [],
   "source": [
    "vectors = np.array(vectors)"
   ]
  },
  {
   "cell_type": "code",
   "execution_count": 7,
   "id": "397ed5e0",
   "metadata": {},
   "outputs": [
    {
     "data": {
      "text/plain": [
       "(6000, 784)"
      ]
     },
     "execution_count": 7,
     "metadata": {},
     "output_type": "execute_result"
    }
   ],
   "source": [
    "vectors.shape"
   ]
  },
  {
   "cell_type": "code",
   "execution_count": 8,
   "id": "bb26d886",
   "metadata": {},
   "outputs": [],
   "source": [
    "chars=np.array(chars)"
   ]
  },
  {
   "cell_type": "code",
   "execution_count": 9,
   "id": "5357dab1",
   "metadata": {},
   "outputs": [
    {
     "data": {
      "image/png": "[encoded data removed]",
      "text/plain": [
       "<Figure size 480x480 with 1 Axes>"
      ]
     },
     "metadata": {},
     "output_type": "display_data"
    },
    {
     "name": "stdout",
     "output_type": "stream",
     "text": [
      "5\n"
     ]
    }
   ],
   "source": [
    "plt.matshow(vectors[0].reshape(28,28))\n",
    "plt.show()\n",
    "print(chars[0])"
   ]
  },
  {
   "cell_type": "markdown",
   "id": "89608ad5",
   "metadata": {},
   "source": [
    "# KNN"
   ]
  },
  {
   "attachments": {},
   "cell_type": "markdown",
   "id": "f823a15f",
   "metadata": {},
   "source": [
    "#### MNIST"
   ]
  },
  {
   "cell_type": "code",
   "execution_count": 12,
   "id": "08aa0774",
   "metadata": {},
   "outputs": [],
   "source": [
    "X_train, X_test, y_train, y_test = train_test_split(vectors,chars,test_size=0.20, random_state=42)"
   ]
  },
  {
   "cell_type": "code",
   "execution_count": 13,
   "id": "16980ef9",
   "metadata": {},
   "outputs": [
    {
     "data": {
      "text/plain": [
       "(4800, 784)"
      ]
     },
     "execution_count": 13,
     "metadata": {},
     "output_type": "execute_result"
    }
   ],
   "source": [
    "X_train.shape"
   ]
  },
  {
   "cell_type": "code",
   "execution_count": 16,
   "id": "d2f91b76",
   "metadata": {},
   "outputs": [
    {
     "data": {
      "text/plain": [
       "(1200, 784)"
      ]
     },
     "execution_count": 16,
     "metadata": {},
     "output_type": "execute_result"
    }
   ],
   "source": [
    "X_test.shape"
   ]
  },
  {
   "cell_type": "code",
   "execution_count": 17,
   "id": "3599f174",
   "metadata": {},
   "outputs": [],
   "source": [
    "def predict(Xtrain,train_labels,test_point,k):\n",
    "    X_train=Xtrain.copy()\n",
    "    X_train[:,0]=X_train[:,0].astype(float)-test_point[0]\n",
    "    X_train[:,1]=X_train[:,1].astype(float)-test_point[1]\n",
    "    distances = np.linalg.norm(X_train[:,[0,1]], axis=1)\n",
    "    nearest_neighbors = np.argsort(distances)[:k]\n",
    "    nearest_neighbors=nearest_neighbors.astype(int)\n",
    "    closets_neigh=train_labels[nearest_neighbors]\n",
    "    return st.mode(closets_neigh)[0][0]"
   ]
  },
  {
   "cell_type": "code",
   "execution_count": 18,
   "id": "6f3ea75b",
   "metadata": {},
   "outputs": [
    {
     "name": "stdout",
     "output_type": "stream",
     "text": [
      "1\n"
     ]
    },
    {
     "name": "stderr",
     "output_type": "stream",
     "text": [
      "C:\\Users\\afrincon\\AppData\\Local\\Temp\\ipykernel_13000\\2725144360.py:9: FutureWarning: Unlike other reduction functions (e.g. `skew`, `kurtosis`), the default behavior of `mode` typically preserves the axis it acts along. In SciPy 1.11.0, this behavior will change: the default value of `keepdims` will become False, the `axis` over which the statistic is taken will be eliminated, and the value None will no longer be accepted. Set `keepdims` to True or False to avoid this warning.\n",
      "  return st.mode(closets_neigh)[0][0]\n",
      "c:\\Users\\afrincon\\Anaconda3\\lib\\site-packages\\scipy\\stats\\_stats_py.py:110: RuntimeWarning: The input array could not be properly checked for nan values. nan values will be ignored.\n",
      "  warnings.warn(\"The input array could not be properly \"\n",
      "C:\\Users\\afrincon\\AppData\\Local\\Temp\\ipykernel_13000\\2725144360.py:9: DeprecationWarning: Support for non-numeric arrays has been deprecated as of SciPy 1.9.0 and will be removed in 1.11.0. `pandas.DataFrame.mode` can be used instead, see https://pandas.pydata.org/docs/reference/api/pandas.DataFrame.mode.html.\n",
      "  return st.mode(closets_neigh)[0][0]\n"
     ]
    },
    {
     "name": "stdout",
     "output_type": "stream",
     "text": [
      "2\n",
      "3\n",
      "4\n",
      "5\n",
      "10\n",
      "50\n",
      "100\n",
      "150\n",
      "200\n",
      "500\n",
      "1000\n"
     ]
    }
   ],
   "source": [
    "embedding = PCA(n_components=2)#, normalized_stress='auto')\n",
    "X_transformed_train = embedding.fit_transform(X_train)\n",
    "X_transformed_train = np.vstack((X_transformed_train.T, y_train)).T\n",
    "X_transformed_test = embedding.fit_transform(X_test)\n",
    "def test(k):\n",
    "    success = 0\n",
    "    examples = X_transformed_test[:,[0,1]]\n",
    "    for e in range(len(examples)):\n",
    "        z = predict(X_transformed_train,y_train,X_transformed_test[e],k)\n",
    "        if z == y_test[e]:\n",
    "            success += 1\n",
    "    return float(success) / len(examples)\n",
    "\n",
    "valor_k=[1,2,3,4,5,10,50,100,150,200,500,1000]\n",
    "yaccuracy_k=[]\n",
    "for k in valor_k:\n",
    "    print(k)\n",
    "    accuracy_k=test(k)\n",
    "    yaccuracy_k.append(accuracy_k)\n",
    "\n",
    "\n"
   ]
  },
  {
   "cell_type": "code",
   "execution_count": 28,
   "id": "e9e7a626",
   "metadata": {},
   "outputs": [
    {
     "name": "stdout",
     "output_type": "stream",
     "text": [
      "valor de k:  1 , accuracy:  0.3675\n",
      "valor de k:  2 , accuracy:  0.38\n",
      "valor de k:  3 , accuracy:  0.3775\n",
      "valor de k:  4 , accuracy:  0.385\n",
      "valor de k:  5 , accuracy:  0.39916666666666667\n",
      "valor de k:  10 , accuracy:  0.43166666666666664\n",
      "valor de k:  50 , accuracy:  0.44416666666666665\n",
      "valor de k:  100 , accuracy:  0.4375\n",
      "valor de k:  150 , accuracy:  0.43916666666666665\n",
      "valor de k:  200 , accuracy:  0.42833333333333334\n",
      "valor de k:  500 , accuracy:  0.42583333333333334\n",
      "valor de k:  1000 , accuracy:  0.4266666666666667\n"
     ]
    },
    {
     "data": {
      "image/png": "[encoded data removed]",
      "text/plain": [
       "<Figure size 640x480 with 1 Axes>"
      ]
     },
     "metadata": {},
     "output_type": "display_data"
    }
   ],
   "source": [
    "valor_k=np.array([1,2,3,4,5,10,50,100,150,200,500,1000])\n",
    "for i in range(len(valor_k)):\n",
    "    print(\"valor de k: \", valor_k[i], \", accuracy: \", yaccuracy_k[i])\n",
    "plt.plot(valor_k,yaccuracy_k)\n",
    "plt.show()"
   ]
  },
  {
   "attachments": {},
   "cell_type": "markdown",
   "id": "d42e1d3c",
   "metadata": {},
   "source": [
    "#### DIGITS"
   ]
  },
  {
   "cell_type": "code",
   "execution_count": 40,
   "id": "a72d8e5b",
   "metadata": {},
   "outputs": [],
   "source": [
    "digits['data'] = np.where(digits['data']>0,1,-1)"
   ]
  },
  {
   "cell_type": "code",
   "execution_count": 41,
   "id": "a6cade4c",
   "metadata": {},
   "outputs": [
    {
     "data": {
      "text/plain": [
       "(1797, 64)"
      ]
     },
     "execution_count": 41,
     "metadata": {},
     "output_type": "execute_result"
    }
   ],
   "source": [
    "digits[\"data\"].shape"
   ]
  },
  {
   "cell_type": "code",
   "execution_count": 42,
   "id": "5567cd91",
   "metadata": {},
   "outputs": [
    {
     "data": {
      "text/plain": [
       "array([0, 1, 2, ..., 8, 9, 8])"
      ]
     },
     "execution_count": 42,
     "metadata": {},
     "output_type": "execute_result"
    }
   ],
   "source": [
    "digits[\"target\"]"
   ]
  },
  {
   "cell_type": "code",
   "execution_count": 52,
   "id": "5d52c869",
   "metadata": {},
   "outputs": [],
   "source": [
    "X_train_digits, X_test_digits, y_train_digits, y_test_digits = train_test_split(digits['data'] ,digits[\"target\"],test_size=0.20, random_state=42)"
   ]
  },
  {
   "cell_type": "code",
   "execution_count": 55,
   "id": "e27e924a",
   "metadata": {},
   "outputs": [
    {
     "name": "stdout",
     "output_type": "stream",
     "text": [
      "1\n",
      "2\n",
      "3\n"
     ]
    },
    {
     "name": "stderr",
     "output_type": "stream",
     "text": [
      "C:\\Users\\afrincon\\AppData\\Local\\Temp\\ipykernel_13000\\2725144360.py:9: FutureWarning: Unlike other reduction functions (e.g. `skew`, `kurtosis`), the default behavior of `mode` typically preserves the axis it acts along. In SciPy 1.11.0, this behavior will change: the default value of `keepdims` will become False, the `axis` over which the statistic is taken will be eliminated, and the value None will no longer be accepted. Set `keepdims` to True or False to avoid this warning.\n",
      "  return st.mode(closets_neigh)[0][0]\n"
     ]
    },
    {
     "name": "stdout",
     "output_type": "stream",
     "text": [
      "4\n",
      "5\n",
      "10\n",
      "50\n",
      "100\n",
      "150\n",
      "200\n",
      "500\n",
      "1000\n"
     ]
    }
   ],
   "source": [
    "\n",
    "standardized_data_train = MinMaxScaler().fit_transform(X_train_digits)\n",
    "standardized_data_test = MinMaxScaler().fit_transform(X_test_digits)\n",
    "#(1797, 64)\n",
    "embedding = MDS(n_components=2)#, normalized_stress='auto')\n",
    "X_transformed_train_digits = embedding.fit_transform(standardized_data_train)\n",
    "\n",
    "X_transformed_train_digits = np.vstack((X_transformed_train_digits.T, y_train_digits)).T\n",
    "X_transformed_test_digits = embedding.fit_transform(standardized_data_test)\n",
    "\n",
    "def test(k):\n",
    "    success = 0\n",
    "    examples = X_transformed_test_digits[:,[0,1]]\n",
    "    for e in range(len(examples)):\n",
    "        z = predict(X_transformed_train_digits,y_train_digits,X_transformed_test_digits[e],k)\n",
    "        if z == y_test_digits[e]:\n",
    "            success += 1\n",
    "    return float(success) / len(examples)\n",
    "\n",
    "valor_k=[1,2,3,4,5,10,50,100,150,200,500,1000]\n",
    "yaccuracy_k=[]\n",
    "for k in valor_k:\n",
    "    print(k)\n",
    "    accuracy_k=test(k)\n",
    "    yaccuracy_k.append(accuracy_k)"
   ]
  },
  {
   "cell_type": "code",
   "execution_count": 56,
   "id": "7d05ebac",
   "metadata": {},
   "outputs": [
    {
     "name": "stdout",
     "output_type": "stream",
     "text": [
      "valor de k:  1 , accuracy:  0.4361111111111111\n",
      "valor de k:  2 , accuracy:  0.41944444444444445\n",
      "valor de k:  3 , accuracy:  0.46111111111111114\n",
      "valor de k:  4 , accuracy:  0.45555555555555555\n",
      "valor de k:  5 , accuracy:  0.48333333333333334\n",
      "valor de k:  10 , accuracy:  0.5083333333333333\n",
      "valor de k:  50 , accuracy:  0.5305555555555556\n",
      "valor de k:  100 , accuracy:  0.5194444444444445\n",
      "valor de k:  150 , accuracy:  0.525\n",
      "valor de k:  200 , accuracy:  0.5277777777777778\n",
      "valor de k:  500 , accuracy:  0.35833333333333334\n",
      "valor de k:  1000 , accuracy:  0.28055555555555556\n"
     ]
    },
    {
     "data": {
      "image/png": "[encoded data removed]",
      "text/plain": [
       "<Figure size 640x480 with 1 Axes>"
      ]
     },
     "metadata": {},
     "output_type": "display_data"
    }
   ],
   "source": [
    "valor_k=np.array([1,2,3,4,5,10,50,100,150,200,500,1000])\n",
    "for i in range(len(valor_k)):\n",
    "    print(\"valor de k: \", valor_k[i], \", accuracy: \", yaccuracy_k[i])\n",
    "plt.plot(valor_k,yaccuracy_k)\n",
    "plt.show()"
   ]
  },
  {
   "cell_type": "markdown",
   "id": "49edf076",
   "metadata": {},
   "source": [
    "## Prostate"
   ]
  },
  {
   "cell_type": "code",
   "execution_count": 30,
   "id": "ca1cd0f4",
   "metadata": {},
   "outputs": [],
   "source": [
    "import pandas as pd"
   ]
  },
  {
   "cell_type": "code",
   "execution_count": 31,
   "id": "d993ea3a",
   "metadata": {},
   "outputs": [],
   "source": [
    "prostate_data = pd.read_csv('prostate.csv')"
   ]
  },
  {
   "cell_type": "code",
   "execution_count": 32,
   "id": "dcc7b2cc",
   "metadata": {},
   "outputs": [],
   "source": [
    "#Divide the data set, and apply the K-NN. Test the accuracy, the training error, and the test error."
   ]
  },
  {
   "cell_type": "markdown",
   "id": "bbb4e6ce",
   "metadata": {},
   "source": [
    "# Perceptron"
   ]
  },
  {
   "cell_type": "code",
   "execution_count": 33,
   "id": "5276d8be",
   "metadata": {},
   "outputs": [],
   "source": [
    "data = [{'vector': v, 'char': c} for (v, c) in zip(vectors, chars)]"
   ]
  },
  {
   "cell_type": "code",
   "execution_count": 34,
   "id": "a535dd95",
   "metadata": {},
   "outputs": [
    {
     "ename": "IndentationError",
     "evalue": "expected an indented block (2579002564.py, line 10)",
     "output_type": "error",
     "traceback": [
      "\u001b[1;36m  File \u001b[1;32m\"C:\\Users\\afrincon\\AppData\\Local\\Temp\\ipykernel_13000\\2579002564.py\"\u001b[1;36m, line \u001b[1;32m10\u001b[0m\n\u001b[1;33m    elif z < 0 and y == target_char:\u001b[0m\n\u001b[1;37m    ^\u001b[0m\n\u001b[1;31mIndentationError\u001b[0m\u001b[1;31m:\u001b[0m expected an indented block\n"
     ]
    }
   ],
   "source": [
    "def train(target_char, opposite_char, steps):\n",
    "    train_data = data[:5000]\n",
    "    train_data = [e for e in train_data if e['char'] in (target_char, opposite_char)]\n",
    "    w = np.zeros(784)\n",
    "    i = 0\n",
    "    weights = w\n",
    "    # Implement perceptron, remember:\n",
    "    if z >= 0 and y == opposite_char:\n",
    "        #TODO\n",
    "    elif z < 0 and y == target_char:\n",
    "        #TODO\n",
    "    return w\n",
    "\n",
    "def error(target_char, opposite_char,data,w):\n",
    "    success = 0\n",
    "    for e in data:\n",
    "        z = np.dot(e['vector'], w)\n",
    "        if (z >= 0 and e['char'] == target_char) or (z < 0 and e['char'] == opposite_char):\n",
    "            success += 1\n",
    "    return float(success) / len(data)\n",
    "\n",
    "def test(target_char, opposite_char,weights):\n",
    "    success = 0\n",
    "    examples = data[5000:]\n",
    "\n",
    "    examples = [e for e in examples if e['char'] in (target_char, opposite_char)]\n",
    "\n",
    "    for e in examples:\n",
    "        z = np.dot(e['vector'], weights)\n",
    "        if (z >= 0 and e['char'] == target_char) or (z < 0 and e['char'] == opposite_char):\n",
    "            success += 1\n",
    "\n",
    "    return float(success) / len(examples)"
   ]
  },
  {
   "cell_type": "code",
   "execution_count": null,
   "id": "065433ef",
   "metadata": {},
   "outputs": [],
   "source": [
    "weights = train('1','2',100)"
   ]
  },
  {
   "cell_type": "code",
   "execution_count": null,
   "id": "a61e8dfa",
   "metadata": {},
   "outputs": [],
   "source": [
    "test('1','2',weights)"
   ]
  },
  {
   "cell_type": "code",
   "execution_count": null,
   "id": "13b67877",
   "metadata": {},
   "outputs": [],
   "source": []
  }
 ],
 "metadata": {
  "kernelspec": {
   "display_name": "base",
   "language": "python",
   "name": "python3"
  },
  "language_info": {
   "codemirror_mode": {
    "name": "ipython",
    "version": 3
   },
   "file_extension": ".py",
   "mimetype": "text/x-python",
   "name": "python",
   "nbconvert_exporter": "python",
   "pygments_lexer": "ipython3",
   "version": "3.9.13"
  },
  "vscode": {
   "interpreter": {
    "hash": "eabfd7d19aaf8c028d2e706059a933caf1b2347856756c8557b9aeb79deceee2"
   }
  }
 },
 "nbformat": 4,
 "nbformat_minor": 5
}
